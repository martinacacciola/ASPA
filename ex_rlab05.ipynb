{
 "cells": [
  {
   "cell_type": "markdown",
   "id": "1c8d20cb",
   "metadata": {},
   "source": [
    "### RLab05 - Martina Cacciola (2097476)"
   ]
  },
  {
   "cell_type": "markdown",
   "id": "829d658d",
   "metadata": {},
   "source": [
    "# Exercise 1"
   ]
  },
  {
   "cell_type": "code",
   "execution_count": 1,
   "id": "22140927",
   "metadata": {},
   "outputs": [
    {
     "name": "stderr",
     "output_type": "stream",
     "text": [
      "-- \u001b[1mAttaching core tidyverse packages\u001b[22m ------------------------ tidyverse 2.0.0 --\n",
      "\u001b[32mv\u001b[39m \u001b[34mdplyr    \u001b[39m 1.1.2     \u001b[32mv\u001b[39m \u001b[34mreadr    \u001b[39m 2.1.4\n",
      "\u001b[32mv\u001b[39m \u001b[34mforcats  \u001b[39m 1.0.0     \u001b[32mv\u001b[39m \u001b[34mstringr  \u001b[39m 1.5.0\n",
      "\u001b[32mv\u001b[39m \u001b[34mggplot2  \u001b[39m 3.4.2     \u001b[32mv\u001b[39m \u001b[34mtibble   \u001b[39m 3.2.1\n",
      "\u001b[32mv\u001b[39m \u001b[34mlubridate\u001b[39m 1.9.2     \u001b[32mv\u001b[39m \u001b[34mtidyr    \u001b[39m 1.3.0\n",
      "\u001b[32mv\u001b[39m \u001b[34mpurrr    \u001b[39m 1.0.1     \n",
      "-- \u001b[1mConflicts\u001b[22m ------------------------------------------ tidyverse_conflicts() --\n",
      "\u001b[31mx\u001b[39m \u001b[34mdplyr\u001b[39m::\u001b[32mfilter()\u001b[39m masks \u001b[34mstats\u001b[39m::filter()\n",
      "\u001b[31mx\u001b[39m \u001b[34mdplyr\u001b[39m::\u001b[32mlag()\u001b[39m    masks \u001b[34mstats\u001b[39m::lag()\n",
      "\u001b[36mi\u001b[39m Use the conflicted package (\u001b[3m\u001b[34m<http://conflicted.r-lib.org/>\u001b[39m\u001b[23m) to force all conflicts to become errors\n"
     ]
    }
   ],
   "source": [
    "library(tidyverse)\n",
    "library(ggplot2)\n",
    "library(lubridate)\n",
    "library(dplyr)\n",
    "library(tidyr)"
   ]
  },
  {
   "cell_type": "markdown",
   "id": "b3e5b695",
   "metadata": {},
   "source": [
    "### a)"
   ]
  },
  {
   "cell_type": "code",
   "execution_count": 2,
   "id": "7c28a590",
   "metadata": {},
   "outputs": [
    {
     "name": "stdout",
     "output_type": "stream",
     "text": [
      "Observation 1:\n",
      "Posterior mean: 0.615 \n",
      "Posterior median: 0.6133613 \n",
      "Posterior variance: 0.003075 \n",
      "95% credibility interval: 0.025 0.975 \n",
      "\n",
      "Observation 2:\n",
      "Posterior mean: 0.7035714 \n",
      "Posterior median: 0.7023702 \n",
      "Posterior variance: 0.002512749 \n",
      "95% credibility interval: 0.025 0.975 \n",
      "\n"
     ]
    },
    {
     "data": {
      "image/png": "[encoded data removed]",
      "text/plain": [
       "Plot with title \"Posterior distribution of lambda (uniform prior)\""
      ]
     },
     "metadata": {
      "image/png": {
       "height": 420,
       "width": 420
      }
     },
     "output_type": "display_data"
    }
   ],
   "source": [
    "# Data\n",
    "y <- c(0, 1, 2, 3, 4)\n",
    "n1 <- c(109, 65, 22, 3, 1)\n",
    "n2 <- c(144, 91, 32, 11, 2)\n",
    "\n",
    "# Uniform Prior\n",
    "lambda <- seq(0, 1, length.out = 10000)\n",
    "prior <- rep(1/length(lambda), length(lambda))\n",
    "\n",
    "# Likelihood\n",
    "likelihood1 <- sapply(lambda, function(l) prod(dpois(y, l) ^ n1))\n",
    "likelihood2 <- sapply(lambda, function(l) prod(dpois(y, l) ^ n2))\n",
    "\n",
    "# Posterior\n",
    "posterior1 <- likelihood1 * prior\n",
    "posterior1 <- posterior1 / sum(posterior1)\n",
    "posterior2 <- likelihood2 * prior\n",
    "posterior2 <- posterior2 / sum(posterior2)\n",
    "\n",
    "# Plot posterior\n",
    "plot(lambda, posterior1, type = \"l\", col = \"blue\", lwd = 2,\n",
    "     xlab = expression(lambda), ylab = \"Density\",\n",
    "     main = \"Posterior distribution of lambda (uniform prior)\", ylim = c(0, 8*10^-4))\n",
    "lines(lambda, posterior2, col = \"red\", lwd = 2)\n",
    "legend(\"topright\", legend = c(\"Obs 1\", \"Obs 2\"),\n",
    "       col = c(\"blue\", \"red\"), lty = 1)\n",
    "\n",
    "# Posterior mean\n",
    "mean1 <- sum(lambda * posterior1)\n",
    "mean2 <- sum(lambda * posterior2)\n",
    "\n",
    "# Posterior median\n",
    "cum_posterior1 <- cumsum(posterior1)\n",
    "median1 <- lambda[which.max(cum_posterior1 >= 0.5)]\n",
    "cum_posterior2 <- cumsum(posterior2)\n",
    "median2 <- lambda[which.max(cum_posterior2 >= 0.5)]\n",
    "\n",
    "# Posterior variance\n",
    "variance1 <- sum((lambda - mean1)^2 * posterior1)\n",
    "variance2 <- sum((lambda - mean2)^2 * posterior2)\n",
    "\n",
    "# Credibility interval\n",
    "ci1 <- quantile(lambda, probs = c(0.025, 0.975), weights = posterior1)\n",
    "ci2 <- quantile(lambda, probs = c(0.025, 0.975), weights = posterior2)\n",
    "\n",
    "cat(\"Observation 1:\\n\")\n",
    "cat(\"Posterior mean:\", mean1,\"\\n\")\n",
    "cat(\"Posterior median:\", median1,\"\\n\")\n",
    "cat(\"Posterior variance:\", variance1,\"\\n\")\n",
    "cat(\"95% credibility interval:\", ci1,\"\\n\\n\")\n",
    "\n",
    "cat(\"Observation 2:\\n\")\n",
    "cat(\"Posterior mean:\", mean2,\"\\n\")\n",
    "cat(\"Posterior median:\", median2,\"\\n\")\n",
    "cat(\"Posterior variance:\", variance2,\"\\n\")\n",
    "cat(\"95% credibility interval:\", ci2,\"\\n\\n\")"
   ]
  },
  {
   "cell_type": "markdown",
   "id": "ffbb5daa",
   "metadata": {},
   "source": [
    "### b)"
   ]
  },
  {
   "cell_type": "code",
   "execution_count": 3,
   "id": "9de23cce",
   "metadata": {},
   "outputs": [
    {
     "name": "stdout",
     "output_type": "stream",
     "text": [
      "Observation 1:\n",
      "Posterior mean: 0.6125 \n",
      "Posterior median: 0.6108611 \n",
      "Posterior variance: 0.0030625 \n",
      "95% credibility interval: 0.025 0.975 \n",
      "\n",
      "Observation 2:\n",
      "Posterior mean: 0.7017857 \n",
      "Posterior median: 0.7005701 \n",
      "Posterior variance: 0.002506372 \n",
      "95% credibility interval: 0.025 0.975 \n",
      "\n"
     ]
    },
    {
     "data": {
      "image/png": "[encoded data removed]",
      "text/plain": [
       "Plot with title \"Posterior distribution of lambda (Jeffrey's prior)\""
      ]
     },
     "metadata": {
      "image/png": {
       "height": 420,
       "width": 420
      }
     },
     "output_type": "display_data"
    }
   ],
   "source": [
    "# Data\n",
    "y <- c(0, 1, 2, 3, 4)\n",
    "n1 <- c(109, 65, 22, 3, 1)\n",
    "n2 <- c(144, 91, 32, 11, 2)\n",
    "\n",
    "# Jeffreys' Prior\n",
    "lambda <- seq(0, 1, length.out = 10000)\n",
    "prior <- 1/sqrt(lambda)\n",
    "prior[is.infinite(prior)] <- 0  # Set infinite values to zero\n",
    "prior <- prior / sum(prior)  # Normalize the prior probabilities\n",
    "\n",
    "# Likelihood\n",
    "likelihood1 <- sapply(lambda, function(l) prod(dpois(y, l) ^ n1))\n",
    "likelihood2 <- sapply(lambda, function(l) prod(dpois(y, l) ^ n2))\n",
    "\n",
    "# Posterior\n",
    "posterior1 <- likelihood1 * prior\n",
    "posterior1 <- posterior1 / sum(posterior1)\n",
    "posterior2 <- likelihood2 * prior\n",
    "posterior2 <- posterior2 / sum(posterior2)\n",
    "\n",
    "# Plot posterior\n",
    "plot(lambda, posterior1, type = \"l\", col = \"blue\", lwd = 2,\n",
    "     xlab = expression(lambda), ylab = \"Density\",\n",
    "     main = \"Posterior distribution of lambda (Jeffrey's prior)\", ylim = c(0, 8*10^-4))\n",
    "lines(lambda, posterior2, col = \"red\", lwd = 2)\n",
    "legend(\"topright\", legend = c(\"Corps 1\", \"Corps 2\"),\n",
    "       col = c(\"blue\", \"red\"), lty = 1)\n",
    "\n",
    "# Posterior mean\n",
    "mean1 <- sum(lambda * posterior1)\n",
    "mean2 <- sum(lambda * posterior2)\n",
    "\n",
    "# Posterior median\n",
    "cum_posterior1 <- cumsum(posterior1)\n",
    "median1 <- lambda[which.max(cum_posterior1 >= 0.5)]\n",
    "cum_posterior2 <- cumsum(posterior2)\n",
    "median2 <- lambda[which.max(cum_posterior2 >= 0.5)]\n",
    "\n",
    "# Posterior variance\n",
    "variance1 <- sum((lambda - mean1)^2 * posterior1)\n",
    "variance2 <- sum((lambda - mean2)^2 * posterior2)\n",
    "\n",
    "# Credibility interval\n",
    "ci1 <- quantile(lambda, probs = c(0.025, 0.975), weights = posterior1)\n",
    "ci2 <- quantile(lambda, probs = c(0.025, 0.975), weights = posterior2)\n",
    "\n",
    "cat(\"Observation 1:\\n\")\n",
    "cat(\"Posterior mean:\", mean1,\"\\n\")\n",
    "cat(\"Posterior median:\", median1,\"\\n\")\n",
    "cat(\"Posterior variance:\", variance1,\"\\n\")\n",
    "cat(\"95% credibility interval:\", ci1,\"\\n\\n\")\n",
    "\n",
    "cat(\"Observation 2:\\n\")\n",
    "cat(\"Posterior mean:\", mean2,\"\\n\")\n",
    "cat(\"Posterior median:\", median2,\"\\n\")\n",
    "cat(\"Posterior variance:\", variance2,\"\\n\")\n",
    "cat(\"95% credibility interval:\", ci2,\"\\n\\n\")"
   ]
  },
  {
   "cell_type": "markdown",
   "id": "9b111d8f",
   "metadata": {},
   "source": [
    "# Exercise 2"
   ]
  },
  {
   "cell_type": "code",
   "execution_count": 7,
   "id": "7fd9120e",
   "metadata": {},
   "outputs": [],
   "source": [
    "Sys.setenv(PATH = \"C:\\\\Program Files\\\\JAGS\\\\JAGS-4.1.0\\\\x64\\\\bin\")"
   ]
  },
  {
   "cell_type": "code",
   "execution_count": 8,
   "id": "262e2036",
   "metadata": {},
   "outputs": [],
   "source": [
    "Sys.setenv(JAGS_HOME=\"C:\\\\Program Files\\\\JAGS\\\\JAGS-4.1.0\")"
   ]
  },
  {
   "cell_type": "code",
   "execution_count": 9,
   "id": "c772d88d",
   "metadata": {},
   "outputs": [
    {
     "name": "stdout",
     "output_type": "stream",
     "text": [
      "\n",
      "  C'è una versione binaria disponibile (e sarà installata) ma la\n",
      "  versione dei sorgenti è successiva:\n",
      "      binary source\n",
      "rjags   4-13   4-14\n",
      "\n",
      "package 'rjags' successfully unpacked and MD5 sums checked\n",
      "\n",
      "The downloaded binary packages are in\n",
      "\tC:\\Users\\scumb\\AppData\\Local\\Temp\\RtmpqK4Rbq\\downloaded_packages\n",
      "package 'runjags' successfully unpacked and MD5 sums checked\n",
      "\n",
      "The downloaded binary packages are in\n",
      "\tC:\\Users\\scumb\\AppData\\Local\\Temp\\RtmpqK4Rbq\\downloaded_packages\n"
     ]
    }
   ],
   "source": [
    "install.packages(\"rjags\", type = \"binary\")\n",
    "install.packages(\"runjags\", type = \"binary\")"
   ]
  },
  {
   "cell_type": "code",
   "execution_count": 10,
   "id": "51573388",
   "metadata": {},
   "outputs": [
    {
     "data": {
      "text/html": [
       "'C:\\\\Program Files\\\\JAGS\\\\JAGS-4.1.0\\\\x64\\\\bin'"
      ],
      "text/latex": [
       "'C:\\textbackslash{}\\textbackslash{}Program Files\\textbackslash{}\\textbackslash{}JAGS\\textbackslash{}\\textbackslash{}JAGS-4.1.0\\textbackslash{}\\textbackslash{}x64\\textbackslash{}\\textbackslash{}bin'"
      ],
      "text/markdown": [
       "'C:\\\\Program Files\\\\JAGS\\\\JAGS-4.1.0\\\\x64\\\\bin'"
      ],
      "text/plain": [
       "[1] \"C:\\\\Program Files\\\\JAGS\\\\JAGS-4.1.0\\\\x64\\\\bin\""
      ]
     },
     "metadata": {},
     "output_type": "display_data"
    }
   ],
   "source": [
    "Sys.getenv(\"PATH\")"
   ]
  },
  {
   "cell_type": "code",
   "execution_count": 11,
   "id": "90522551",
   "metadata": {},
   "outputs": [
    {
     "name": "stderr",
     "output_type": "stream",
     "text": [
      "Caricamento del pacchetto richiesto: coda\n",
      "\n",
      "Linked to JAGS 4.1.0\n",
      "\n",
      "Loaded modules: basemod,bugs\n",
      "\n",
      "\n",
      "Caricamento pacchetto: 'runjags'\n",
      "\n",
      "\n",
      "Il seguente oggetto è mascherato da 'package:tidyr':\n",
      "\n",
      "    extract\n",
      "\n",
      "\n"
     ]
    }
   ],
   "source": [
    "library(rjags)\n",
    "library(runjags)"
   ]
  },
  {
   "cell_type": "markdown",
   "id": "af1cd023",
   "metadata": {},
   "source": [
    "### a) Uniform prior"
   ]
  },
  {
   "cell_type": "code",
   "execution_count": 12,
   "id": "670a5b5a",
   "metadata": {},
   "outputs": [
    {
     "name": "stdout",
     "output_type": "stream",
     "text": [
      "Compiling model graph\n",
      "   Resolving undeclared variables\n",
      "   Allocating nodes\n",
      "Graph information:\n",
      "   Observed stochastic nodes: 200\n",
      "   Unobserved stochastic nodes: 2\n",
      "   Total graph size: 203\n",
      "\n",
      "Initializing model\n",
      "\n",
      "Compiling model graph\n",
      "   Resolving undeclared variables\n",
      "   Allocating nodes\n",
      "Graph information:\n",
      "   Observed stochastic nodes: 280\n",
      "   Unobserved stochastic nodes: 2\n",
      "   Total graph size: 283\n",
      "\n",
      "Initializing model\n",
      "\n"
     ]
    }
   ],
   "source": [
    "# Set the data\n",
    "X1 <- c(rep(0, times=109), rep(1, times = 65), rep(2, times=22), rep(3, times=3), rep(4, times=1))\n",
    "data_1 <- NULL\n",
    "data_1$X <- X1\n",
    "\n",
    "X2 <- c(rep(0, times=144), rep(1, times = 91), rep(2, times=32), rep(3, times=11), rep(4, times=2))\n",
    "data_2 <- NULL\n",
    "data_2$X <- X2\n",
    "\n",
    "# Create the JAGS model\n",
    "model <- \"model.txt\"\n",
    "\n",
    "# Initialize the model with the first data set\n",
    "jm_1 <- jags.model(model, data_1)\n",
    "\n",
    "# Initialize the model with the second data set\n",
    "jm_2 <- jags.model(model, data_2)\n",
    "\n",
    "# Update the Markov chain (burn-in) and plot\n",
    "update(jm_1, 1000)\n",
    "chain_1 <- coda.samples(jm_1, c(\"lambda\", \"Y\"), n.iter = 10000)\n",
    "\n",
    "update(jm_2, 1000)\n",
    "chain_2 <- coda.samples(jm_2, c(\"lambda\", \"Y\"), n.iter = 10000)"
   ]
  },
  {
   "cell_type": "code",
   "execution_count": 13,
   "id": "288ea118",
   "metadata": {},
   "outputs": [
    {
     "name": "stdout",
     "output_type": "stream",
     "text": [
      "Observation 1: \n",
      "Mean:  0.615 \n",
      "Variance:  0.003075 \n",
      "Median: 0.6133613 \n",
      "\n",
      "Iterations = 1001:11000\n",
      "Thinning interval = 1 \n",
      "Number of chains = 1 \n",
      "Sample size per chain = 10000 \n",
      "\n",
      "1. Empirical mean and standard deviation for each variable,\n",
      "   plus standard error of the mean:\n",
      "\n",
      "         Mean      SD  Naive SE Time-series SE\n",
      "Y      0.6157 0.77979 0.0077979      0.0077979\n",
      "lambda 0.6157 0.05607 0.0005607      0.0005433\n",
      "\n",
      "2. Quantiles for each variable:\n",
      "\n",
      "         2.5%    25%    50%    75%  97.5%\n",
      "Y      0.0000 0.0000 0.0000 1.0000 2.0000\n",
      "lambda 0.5123 0.5767 0.6138 0.6522 0.7325\n",
      "\n"
     ]
    },
    {
     "data": {
      "image/png": "[encoded data removed]",
      "text/plain": [
       "Plot with title \"Density of lambda\""
      ]
     },
     "metadata": {
      "image/png": {
       "height": 420,
       "width": 420
      }
     },
     "output_type": "display_data"
    }
   ],
   "source": [
    "# Plot for observation 1\n",
    "mean_1 <- 0.615 \n",
    "var_1 <- 0.003075\n",
    "median_1 <- 0.6133613\n",
    "\n",
    "cat('Observation 1:', '\\n')\n",
    "cat('Mean: ', mean_1, '\\n')\n",
    "cat('Variance: ', var_1, '\\n')\n",
    "cat('Median:', median_1, '\\n')\n",
    "\n",
    "print(summary(chain_1))\n",
    "plot(chain_1, col='navy') "
   ]
  },
  {
   "cell_type": "code",
   "execution_count": 9,
   "id": "1c35a5ae",
   "metadata": {},
   "outputs": [
    {
     "name": "stdout",
     "output_type": "stream",
     "text": [
      "Observation 2: \n",
      "Mean: 0.7035714 \n",
      "Variance:  6.313908e-06 \n",
      "Median: 0.7023702 \n",
      "\n",
      "Iterations = 1001:11000\n",
      "Thinning interval = 1 \n",
      "Number of chains = 1 \n",
      "Sample size per chain = 10000 \n",
      "\n",
      "1. Empirical mean and standard deviation for each variable,\n",
      "   plus standard error of the mean:\n",
      "\n",
      "         Mean      SD  Naive SE Time-series SE\n",
      "Y      0.7251 0.84522 0.0084522      0.0082990\n",
      "lambda 0.7028 0.05033 0.0005033      0.0005108\n",
      "\n",
      "2. Quantiles for each variable:\n",
      "\n",
      "         2.5%    25%    50%    75%  97.5%\n",
      "Y      0.0000 0.0000 1.0000 1.0000 3.0000\n",
      "lambda 0.6089 0.6686 0.7011 0.7357 0.8066\n",
      "\n"
     ]
    },
    {
     "data": {
      "image/png": "[encoded data removed]",
      "text/plain": [
       "Plot with title \"Density of lambda\""
      ]
     },
     "metadata": {
      "image/png": {
       "height": 420,
       "width": 420
      }
     },
     "output_type": "display_data"
    }
   ],
   "source": [
    "# Plot for observation 2\n",
    "mean_2 <- 0.7035714 \n",
    "var_2 <- 0.002512749\n",
    "median_2 <- 0.7023702\n",
    "\n",
    "cat('Observation 2:', '\\n')\n",
    "cat('Mean:', mean_2, '\\n')\n",
    "cat('Variance: ', var_2, '\\n')\n",
    "cat('Median:', median_2, '\\n')\n",
    "\n",
    "print(summary(chain_2))\n",
    "plot(chain_2, col='navy')"
   ]
  },
  {
   "cell_type": "code",
   "execution_count": 14,
   "id": "64ef4813",
   "metadata": {},
   "outputs": [
    {
     "name": "stdout",
     "output_type": "stream",
     "text": [
      "package 'gridExtra' successfully unpacked and MD5 sums checked\n",
      "\n",
      "The downloaded binary packages are in\n",
      "\tC:\\Users\\scumb\\AppData\\Local\\Temp\\RtmpqK4Rbq\\downloaded_packages\n"
     ]
    },
    {
     "name": "stderr",
     "output_type": "stream",
     "text": [
      "\n",
      "Caricamento pacchetto: 'gridExtra'\n",
      "\n",
      "\n",
      "Il seguente oggetto è mascherato da 'package:dplyr':\n",
      "\n",
      "    combine\n",
      "\n",
      "\n"
     ]
    }
   ],
   "source": [
    "# Install the gridExtra package\n",
    "install.packages(\"gridExtra\")\n",
    "\n",
    "# Load the gridExtra package\n",
    "library(gridExtra)"
   ]
  },
  {
   "cell_type": "code",
   "execution_count": 23,
   "id": "b9c765df",
   "metadata": {},
   "outputs": [
    {
     "data": {
      "image/png": "[encoded data removed]",
      "text/plain": [
       "plot without title"
      ]
     },
     "metadata": {
      "image/png": {
       "height": 420,
       "width": 420
      }
     },
     "output_type": "display_data"
    }
   ],
   "source": [
    "# Format the chain as data frames\n",
    "chain_1.df <- as.data.frame(as.mcmc(chain_1))\n",
    "chain_2.df <- as.data.frame(as.mcmc(chain_2))\n",
    "\n",
    "# Compute the 95% credibility interval for chain 1\n",
    "sorted_1 <- chain_1.df[order(chain_1.df$lambda), ]$lambda\n",
    "lower_1 <- as.double(sorted_1[250])\n",
    "upper_1 <- as.double(sorted_1[9750])\n",
    "\n",
    "# Compute the 95% credibility interval for chain 2\n",
    "sorted_2 <- chain_2.df[order(chain_2.df$lambda), ]$lambda\n",
    "lower_2 <- as.double(sorted_2[250])\n",
    "upper_2 <- as.double(sorted_2[9750])\n",
    "\n",
    "# Add the inference result \n",
    "ggplot()+\n",
    "geom_histogram(aes(x=chain_1.df$lambda, y=after_stat(density), fill='Observation 1'), alpha=0.5, bins=50)+\n",
    "geom_vline(aes(xintercept=lower_1, linetype='Credibility interval'), color='pink', alpha=0.5, lwd=1)+\n",
    "geom_vline(aes(xintercept=upper_1, linetype='Credibility interval'), color='pink', alpha=0.5, lwd=1)+\n",
    "geom_histogram(aes(x=chain_2.df$lambda, y=after_stat(density), fill='Observation 2'), alpha=0.7, bins=50)+\n",
    "geom_vline(aes(xintercept=lower_2, linetype='Credibility interval'), color='cyan', alpha=0.5, lwd=1)+\n",
    "geom_vline(aes(xintercept=upper_2, linetype='Credibility interval'), color='cyan', alpha=0.5, lwd=1)+\n",
    "labs(x='lambda', y='Posterior'\n",
    "     , title='Posterior for lambda (for uniform prior)') -> plot_inference\n",
    "\n",
    "# Generate future predictions\n",
    "ty_1 <- as.data.frame(table(chain_1.df$Y))\n",
    "ty_2 <- as.data.frame(table(chain_2.df$Y))\n",
    "\n",
    "ggplot()+\n",
    "geom_bar(aes(x = ty_1$Var1, y=ty_1$Freq, fill='Observation 1'), alpha=0.5, stat = 'identity')+\n",
    "geom_bar(aes(x = ty_2$Var1, y=ty_2$Freq, fill='Observation 2'), alpha=0.5, stat = 'identity')+\n",
    "labs(x='Death per day', y='Number of samples', \n",
    "     title=sprintf('Successes in future trials (for uniform prior)')) -> plot_prediction\n",
    "\n",
    "#Correlation between p and predicted variable (toglierei)\n",
    "ggplot()+\n",
    "geom_point(aes(x=chain_1.df$lambda, y=chain_1.df$Y, color='Observation 1'), shape='+', size=2, alpha=0.5)+\n",
    "geom_point(aes(x=chain_2.df$lambda, y=chain_2.df$Y, color='Observation 2'), shape='+', size=2, alpha=0.5)+\n",
    "xlim(0, 1)+\n",
    "labs(x='lambda', y='Deaths',title ='Correlation between p and predicted variable') -> plot_correlations\n",
    "\n",
    "grid.arrange(grobs=list(plot_inference, plot_prediction, plot_correlations), nrow=3)"
   ]
  },
  {
   "cell_type": "markdown",
   "id": "0da085a0",
   "metadata": {},
   "source": [
    "### b) Jeffrey's prior"
   ]
  },
  {
   "cell_type": "code",
   "execution_count": 16,
   "id": "d3871ce1",
   "metadata": {},
   "outputs": [
    {
     "name": "stdout",
     "output_type": "stream",
     "text": [
      "Compiling model graph\n",
      "   Resolving undeclared variables\n",
      "   Allocating nodes\n",
      "Graph information:\n",
      "   Observed stochastic nodes: 200\n",
      "   Unobserved stochastic nodes: 2\n",
      "   Total graph size: 204\n",
      "\n",
      "Initializing model\n",
      "\n",
      "Compiling model graph\n",
      "   Resolving undeclared variables\n",
      "   Allocating nodes\n",
      "Graph information:\n",
      "   Observed stochastic nodes: 280\n",
      "   Unobserved stochastic nodes: 2\n",
      "   Total graph size: 284\n",
      "\n",
      "Initializing model\n",
      "\n"
     ]
    }
   ],
   "source": [
    "# Set the data\n",
    "X1 <- c(rep(0, times=109), rep(1, times = 65), rep(2, times=22), rep(3, times=3), rep(4, times=1))\n",
    "data_1 <- NULL\n",
    "data_1$X <- X1\n",
    "\n",
    "X2 <- c(rep(0, times=144), rep(1, times = 91), rep(2, times=32), rep(3, times=11), rep(4, times=2))\n",
    "data_2 <- NULL\n",
    "data_2$X <- X2\n",
    "\n",
    "# Create the JAGS model\n",
    "model <- \"model_jeffrey.txt\"\n",
    "\n",
    "# Initialize the model with the first data set\n",
    "jm_1 <- jags.model(model, data_1)\n",
    "\n",
    "# Initialize the model with the second data set\n",
    "jm_2 <- jags.model(model, data_2)\n",
    "\n",
    "# Update the Markov chain (burn-in) and plot\n",
    "update(jm_1, 1000)\n",
    "chain_1 <- coda.samples(jm_1, c(\"lambda\", \"Y\"), n.iter = 10000)\n",
    "\n",
    "update(jm_2, 1000)\n",
    "chain_2 <- coda.samples(jm_2, c(\"lambda\", \"Y\"), n.iter = 10000)"
   ]
  },
  {
   "cell_type": "code",
   "execution_count": 17,
   "id": "e07d0cda",
   "metadata": {},
   "outputs": [
    {
     "name": "stdout",
     "output_type": "stream",
     "text": [
      "Observation 1: \n",
      "Mean:  0.6125 \n",
      "Variance:  0.0030625 \n",
      "Median: 0.610861 \n",
      "\n",
      "Iterations = 1001:11000\n",
      "Thinning interval = 1 \n",
      "Number of chains = 1 \n",
      "Sample size per chain = 10000 \n",
      "\n",
      "1. Empirical mean and standard deviation for each variable,\n",
      "   plus standard error of the mean:\n",
      "\n",
      "         Mean     SD Naive SE Time-series SE\n",
      "Y      0.6007 0.7784 0.007784       0.007784\n",
      "lambda 0.6093 0.0548 0.000548       0.000548\n",
      "\n",
      "2. Quantiles for each variable:\n",
      "\n",
      "         2.5%    25%    50%    75% 97.5%\n",
      "Y      0.0000 0.0000 0.0000 1.0000 2.000\n",
      "lambda 0.5075 0.5713 0.6077 0.6452 0.722\n",
      "\n"
     ]
    },
    {
     "data": {
      "image/png": "[encoded data removed]",
      "text/plain": [
       "Plot with title \"Density of lambda\""
      ]
     },
     "metadata": {
      "image/png": {
       "height": 420,
       "width": 420
      }
     },
     "output_type": "display_data"
    }
   ],
   "source": [
    "# Plot for observation 1\n",
    "mean_1 <- 0.6125 \n",
    "var_1 <- 0.0030625\n",
    "median_1 <- 0.610861\n",
    "\n",
    "cat('Observation 1:', '\\n')\n",
    "cat('Mean: ', mean_1, '\\n')\n",
    "cat('Variance: ', var_1, '\\n')\n",
    "cat('Median:', median_1, '\\n')\n",
    "\n",
    "print(summary(chain_1))\n",
    "plot(chain_1, col='navy') "
   ]
  },
  {
   "cell_type": "code",
   "execution_count": 18,
   "id": "57cf244e",
   "metadata": {},
   "outputs": [
    {
     "name": "stdout",
     "output_type": "stream",
     "text": [
      "Observation 2: \n",
      "Mean: 0.7017857 \n",
      "Variance:  0.002506372 \n",
      "Median: 0.7005701 \n",
      "\n",
      "Iterations = 1001:11000\n",
      "Thinning interval = 1 \n",
      "Number of chains = 1 \n",
      "Sample size per chain = 10000 \n",
      "\n",
      "1. Empirical mean and standard deviation for each variable,\n",
      "   plus standard error of the mean:\n",
      "\n",
      "         Mean      SD  Naive SE Time-series SE\n",
      "Y      0.7043 0.84067 0.0084067      0.0083700\n",
      "lambda 0.7007 0.05045 0.0005045      0.0005045\n",
      "\n",
      "2. Quantiles for each variable:\n",
      "\n",
      "         2.5%   25%    50%    75%  97.5%\n",
      "Y      0.0000 0.000 1.0000 1.0000 3.0000\n",
      "lambda 0.6055 0.666 0.6999 0.7345 0.8025\n",
      "\n"
     ]
    },
    {
     "data": {
      "image/png": "[encoded data removed]",
      "text/plain": [
       "Plot with title \"Density of lambda\""
      ]
     },
     "metadata": {
      "image/png": {
       "height": 420,
       "width": 420
      }
     },
     "output_type": "display_data"
    }
   ],
   "source": [
    "# Plot for observation 2\n",
    "mean_2 <- 0.7017857 \n",
    "var_2 <- 0.002506372\n",
    "median_2 <- 0.7005701\n",
    "\n",
    "cat('Observation 2:', '\\n')\n",
    "cat('Mean:', mean_2, '\\n')\n",
    "cat('Variance: ', var_2, '\\n')\n",
    "cat('Median:', median_2, '\\n')\n",
    "\n",
    "print(summary(chain_2))\n",
    "plot(chain_2, col='navy')"
   ]
  },
  {
   "cell_type": "code",
   "execution_count": 24,
   "id": "c617fa7f",
   "metadata": {},
   "outputs": [
    {
     "data": {
      "image/png": "[encoded data removed]",
      "text/plain": [
       "plot without title"
      ]
     },
     "metadata": {
      "image/png": {
       "height": 420,
       "width": 420
      }
     },
     "output_type": "display_data"
    }
   ],
   "source": [
    "# Format the chain as data frames\n",
    "chain_1.df <- as.data.frame(as.mcmc(chain_1))\n",
    "chain_2.df <- as.data.frame(as.mcmc(chain_2))\n",
    "\n",
    "# Compute the 95% credibility interval for chain 1\n",
    "# Sort the lambda column in ascending order\n",
    "sorted_1 <- chain_1.df[order(chain_1.df$lambda), ]$lambda\n",
    "lower_1 <- as.double(sorted_1[250])\n",
    "upper_1 <- as.double(sorted_1[9750])\n",
    "\n",
    "# Compute the 95% credibility interval for chain 2\n",
    "sorted_2 <- chain_2.df[order(chain_2.df$lambda), ]$lambda\n",
    "lower_2 <- as.double(sorted_2[250])\n",
    "upper_2 <- as.double(sorted_2[9750])\n",
    "\n",
    "# Add the inference result \n",
    "ggplot()+\n",
    "geom_histogram(aes(x=chain_1.df$lambda, y=after_stat(density), fill='Observation 1'), alpha=0.5, bins=50)+\n",
    "geom_vline(aes(xintercept=lower_1, linetype='Credibility interval'), color='pink', alpha=0.5, lwd=1)+\n",
    "geom_vline(aes(xintercept=upper_1, linetype='Credibility interval'), color='pink', alpha=0.5, lwd=1)+\n",
    "geom_histogram(aes(x=chain_2.df$lambda, y=after_stat(density), fill='Observation 2'), alpha=0.7, bins=50)+\n",
    "geom_vline(aes(xintercept=lower_2, linetype='Credibility interval'), color='cyan', alpha=0.5, lwd=1)+\n",
    "geom_vline(aes(xintercept=upper_2, linetype='Credibility interval'), color='cyan', alpha=0.5, lwd=1)+\n",
    "labs(x='lambda', y='Posterior'\n",
    "     , title='Posterior for lambda (for Jeffrey prior)') -> plot_inference\n",
    "\n",
    "# Generate future predictions\n",
    "ty_1 <- as.data.frame(table(chain_1.df$Y))\n",
    "ty_2 <- as.data.frame(table(chain_2.df$Y))\n",
    "\n",
    "ggplot()+\n",
    "geom_bar(aes(x = ty_1$Var1, y=ty_1$Freq, fill='Observation 1'), alpha=0.5, stat = 'identity')+\n",
    "geom_bar(aes(x = ty_2$Var1, y=ty_2$Freq, fill='Observation 2'), alpha=0.5, stat = 'identity')+\n",
    "labs(x='Death per day', y='Number of samples', \n",
    "     title=sprintf('Successes in future trials (for Jeffrey prior)')) -> plot_prediction\n",
    "\n",
    "#Correlation between p and predicted variable\n",
    "ggplot()+\n",
    "geom_point(aes(x=chain_1.df$lambda, y=chain_1.df$Y, color='Observation 1'), shape='+', size=2, alpha=0.5)+\n",
    "geom_point(aes(x=chain_2.df$lambda, y=chain_2.df$Y, color='Observation 2'), shape='+', size=2, alpha=0.5)+\n",
    "xlim(0, 1)+\n",
    "labs(x='lambda', y='Deaths', title ='Correlation between p and predicted variable') -> plot_correlations\n",
    "\n",
    "grid.arrange(grobs=list(plot_inference, plot_prediction, plot_correlations), nrow=3)"
   ]
  },
  {
   "cell_type": "markdown",
   "id": "01a1068c",
   "metadata": {},
   "source": [
    "# Exercise 3"
   ]
  },
  {
   "cell_type": "markdown",
   "id": "47788473",
   "metadata": {},
   "source": [
    "### a)"
   ]
  },
  {
   "cell_type": "code",
   "execution_count": 3,
   "id": "6269473a",
   "metadata": {},
   "outputs": [
    {
     "name": "stdout",
     "output_type": "stream",
     "text": [
      "The frequentist estimation for p is: 9.482759 %"
     ]
    }
   ],
   "source": [
    "n <- 116\n",
    "y <- 11\n",
    "# probability (frequentist estimator) \n",
    "p <- y/n\n",
    "cat(\"The frequentist estimation for p is:\", p*100, \"%\")"
   ]
  },
  {
   "cell_type": "markdown",
   "id": "ca392be4",
   "metadata": {},
   "source": [
    "### b)"
   ]
  },
  {
   "cell_type": "code",
   "execution_count": 39,
   "id": "c5abd3aa",
   "metadata": {},
   "outputs": [
    {
     "data": {
      "image/png": "[encoded data removed]",
      "text/plain": [
       "plot without title"
      ]
     },
     "metadata": {
      "image/png": {
       "height": 420,
       "width": 420
      }
     },
     "output_type": "display_data"
    }
   ],
   "source": [
    "# Parameters\n",
    "alpha <- 1\n",
    "beta <- 10\n",
    "step <- 0.0001\n",
    "p <- seq(0, 1, by = step)\n",
    "\n",
    "# Likelihood and prior\n",
    "like <- dbinom(y, size=n, prob=p)\n",
    "prior <- dbeta(p, alpha, beta)\n",
    "\n",
    "# Posterior\n",
    "post_unorm <- like*prior\n",
    "post <- post_unorm/(step * sum(post_unorm))\n",
    "\n",
    "# Plotting posterior distribution\n",
    "ggplot() +\n",
    "  geom_line(aes(x=p, y=post), color='blue')+\n",
    "  labs(x='p', y='Density', title='Posterior Distribution')-> plot_post\n",
    "plot_post"
   ]
  },
  {
   "cell_type": "markdown",
   "id": "3dc7336f",
   "metadata": {},
   "source": [
    "### c)"
   ]
  },
  {
   "cell_type": "code",
   "execution_count": 13,
   "id": "0e4bfae5",
   "metadata": {},
   "outputs": [
    {
     "name": "stdout",
     "output_type": "stream",
     "text": [
      "Bayesian estimator for p (posterior mean): 0.09448819 \n",
      "Posterior variance: 0.0006684388 \n",
      "95% credible interval: 0.05018522 0.1508379 \n"
     ]
    },
    {
     "data": {
      "image/png": "[encoded data removed]",
      "text/plain": [
       "Plot with title \"Posterior Distribution\""
      ]
     },
     "metadata": {
      "image/png": {
       "height": 420,
       "width": 420
      }
     },
     "output_type": "display_data"
    }
   ],
   "source": [
    "# Posterior parameters\n",
    "alpha_post <- alpha + y\n",
    "beta_post <- beta + n - y\n",
    "\n",
    "# Bayesian estimator for p (posterior mean)\n",
    "p_bayes <- alpha_post / (alpha_post + beta_post)\n",
    "\n",
    "# Posterior variance\n",
    "p_var <- (alpha_post * beta_post) / ((alpha_post + beta_post)^2 * (alpha_post + beta_post + 1))\n",
    "\n",
    "# 95% credible interval\n",
    "p_cred_int <- qbeta(c(0.025, 0.975), alpha_post, beta_post)\n",
    "\n",
    "# Output results\n",
    "cat(\"Bayesian estimator for p (posterior mean):\", p_bayes, \"\\n\")\n",
    "cat(\"Posterior variance:\", p_var, \"\\n\")\n",
    "cat(\"95% credible interval:\", p_cred_int, \"\\n\")\n",
    "\n",
    "# Plot the posterior distribution\n",
    "plot(p, post, type = \"l\", col = \"blue\", lwd = 2, xlab = \"p\", ylab = \"Density\", main = \"Posterior Distribution\")\n",
    "abline(v = p_bayes, lty = 2, col = \"red\")\n",
    "abline(v = p_cred_int, lty = 4, col = \"green\")\n",
    "legend(\"topright\", legend = c(\"Posterior\", \"Mean\", \"Credibility Interval\"), col = c(\"blue\", \"red\", \"green\"), lwd = 2)"
   ]
  },
  {
   "cell_type": "markdown",
   "id": "d1308639",
   "metadata": {},
   "source": [
    "### d)"
   ]
  },
  {
   "cell_type": "markdown",
   "id": "3ec516b6",
   "metadata": {},
   "source": [
    "Hypothesis test: bayesian approach"
   ]
  },
  {
   "cell_type": "code",
   "execution_count": 17,
   "id": "4ed4d3cd",
   "metadata": {},
   "outputs": [
    {
     "name": "stdout",
     "output_type": "stream",
     "text": [
      "Posterior probability of null hypothesis:  61.42 %\n",
      "Posterior probability of alternative hypothesis:  38.58 %\n",
      "Cannot reject the null hypothesis.\n"
     ]
    },
    {
     "data": {
      "image/png": "[encoded data removed]",
      "text/plain": [
       "Plot with title \"Posterior Distribution\""
      ]
     },
     "metadata": {
      "image/png": {
       "height": 420,
       "width": 420
      }
     },
     "output_type": "display_data"
    }
   ],
   "source": [
    "# Probability greater or equal to 10% = NULL hypothesis\n",
    "null_posterior <- pbeta(0.1, shape1 = alpha_post, shape2 = beta_post)\n",
    "alt_posterior <- 1 - null_posterior\n",
    "\n",
    "# print results\n",
    "cat(paste(\"Posterior probability of null hypothesis: \", round(null_posterior, 4)*100, \"%\\n\"))\n",
    "cat(paste(\"Posterior probability of alternative hypothesis: \", round(alt_posterior, 4)*100, \"%\\n\"))\n",
    "\n",
    "# Perform the hypothesis test with 5% level of significance\n",
    "if (null_posterior <= 0.05) {\n",
    "  cat(\"Reject the null hypothesis.\\n\")\n",
    "} else {\n",
    "  cat(\"Cannot reject the null hypothesis.\\n\")\n",
    "}\n",
    "\n",
    "# Plot the posterior distribution\n",
    "x <- seq(0, 1, length.out = 100)\n",
    "posterior <- dbeta(x, alpha_post, beta_post)\n",
    "plot(x, posterior, type = \"l\", main = \"Posterior Distribution\", xlab = \"Probability of null hypothesis\", ylab = \"Density\")\n",
    "\n",
    "# Shade the critical region\n",
    "crit_x <- seq(0.1, 1, length.out = 100)\n",
    "crit_y <- dbeta(crit_x, alpha_post, beta_post)\n",
    "polygon(c(crit_x, rev(crit_x)), c(rep(0, length(crit_x)), rev(crit_y)), col = \"skyblue\")"
   ]
  },
  {
   "cell_type": "markdown",
   "id": "e9120d6d",
   "metadata": {},
   "source": [
    "Hypothesis test: frequentist approach"
   ]
  },
  {
   "cell_type": "code",
   "execution_count": 19,
   "id": "369bc588",
   "metadata": {},
   "outputs": [
    {
     "name": "stdout",
     "output_type": "stream",
     "text": [
      "The p-value of the test is 0.5043125 \n",
      "Cannot reject the null hypothesis.\n"
     ]
    },
    {
     "data": {
      "image/png": "[encoded data removed]",
      "text/plain": [
       "Plot with title \"Binomial Distribution\""
      ]
     },
     "metadata": {
      "image/png": {
       "height": 420,
       "width": 420
      }
     },
     "output_type": "display_data"
    }
   ],
   "source": [
    "# Perform the binomial test\n",
    "test_result <- binom.test(y, n, p = 0.1, alternative = \"less\")\n",
    "\n",
    "# Report the result of the test\n",
    "cat(\"The p-value of the test is\", test_result$p.value, \"\\n\")\n",
    "if (test_result$p.value <= 0.05) {\n",
    "  cat(\"Reject the null hypothesis.\\n\")\n",
    "} else {\n",
    "  cat(\"Cannot reject the null hypothesis.\\n\")\n",
    "}\n",
    "\n",
    "# Plot the binomial distribution\n",
    "x <- 0:n\n",
    "prob <- dbinom(x, n, 0.15)\n",
    "barplot(prob, names.arg = x, main = \"Binomial Distribution\", col = \"#1b98e0\", xlab = \"Number of Successes\", ylab = \"Probability\")\n",
    "\n",
    "# Add a horizontal line representing the significance level\n",
    "abline(h = 0.05, col = \"red\", lwd = 2, lty = 'dashed')\n",
    "\n",
    "legend(\"topright\", legend = c(\"Binomial Distribution\", \"Significance Level\"),\n",
    "       fill = c(\"#1b98e0\", \"red\"), lty = 0)"
   ]
  },
  {
   "cell_type": "markdown",
   "id": "80b896b1",
   "metadata": {},
   "source": [
    "### e)"
   ]
  },
  {
   "cell_type": "code",
   "execution_count": 1,
   "id": "9734a0c7",
   "metadata": {},
   "outputs": [
    {
     "name": "stdout",
     "output_type": "stream",
     "text": [
      "The frequentist estimation for p is: 5.454545 %"
     ]
    }
   ],
   "source": [
    "n <- 165\n",
    "y <- 9\n",
    "# probability (frequentist estimator) \n",
    "p <- y/n\n",
    "cat(\"The frequentist estimation for p is:\", p*100, \"%\")"
   ]
  },
  {
   "cell_type": "markdown",
   "id": "4a83ec82",
   "metadata": {},
   "source": [
    "### f)"
   ]
  },
  {
   "cell_type": "code",
   "execution_count": 23,
   "id": "c99e2d4a",
   "metadata": {},
   "outputs": [
    {
     "name": "stderr",
     "output_type": "stream",
     "text": [
      "si installano anche le dipendenze 'bdsmatrix', 'mvtnorm', 'bbmle'\n",
      "\n",
      "\n"
     ]
    },
    {
     "name": "stdout",
     "output_type": "stream",
     "text": [
      "package 'bdsmatrix' successfully unpacked and MD5 sums checked\n",
      "package 'mvtnorm' successfully unpacked and MD5 sums checked\n",
      "package 'bbmle' successfully unpacked and MD5 sums checked\n",
      "package 'emdbook' successfully unpacked and MD5 sums checked\n",
      "\n",
      "The downloaded binary packages are in\n",
      "\tC:\\Users\\scumb\\AppData\\Local\\Temp\\RtmpgTMQIV\\downloaded_packages\n"
     ]
    }
   ],
   "source": [
    "install.packages('emdbook')"
   ]
  },
  {
   "cell_type": "code",
   "execution_count": 6,
   "id": "5526b454",
   "metadata": {},
   "outputs": [
    {
     "name": "stdout",
     "output_type": "stream",
     "text": [
      "For first prior:\n",
      "Posterior mean: 0.09448819 \n",
      "Posterior variance: 0.008928018 \n",
      "95% credible interval: 0.0467 0.1459 \n",
      "For second prior (old):\n",
      "Posterior mean: 0.09465021 \n",
      "Posterior variance: 0.008958661 \n",
      "95% credible interval: 0.0593 0.1319 \n"
     ]
    },
    {
     "data": {
      "image/png": "[encoded data removed]",
      "text/plain": [
       "Plot with title \"Posterior Distribution for first prior\""
      ]
     },
     "metadata": {
      "image/png": {
       "height": 420,
       "width": 420
      }
     },
     "output_type": "display_data"
    },
    {
     "data": {
      "image/png": "[encoded data removed]",
      "text/plain": [
       "Plot with title \"Posterior Distribution for second prior\""
      ]
     },
     "metadata": {
      "image/png": {
       "height": 420,
       "width": 420
      }
     },
     "output_type": "display_data"
    }
   ],
   "source": [
    "library(emdbook)\n",
    "# Parameters\n",
    "alpha <- 1\n",
    "beta <- 10\n",
    "step <- 0.0001\n",
    "p <- seq(0, 1, by = step)\n",
    "\n",
    "# Likelihood \n",
    "like <- dbinom(y, size=n, prob=p)\n",
    "\n",
    "#Priors\n",
    "prior <- dbeta(p, alpha, beta)\n",
    "prior_old <- post\n",
    "\n",
    "# Posteriors\n",
    "post_unorm <- like*prior\n",
    "post_beta <- post_unorm/(step * sum(post_unorm))\n",
    "\n",
    "post_unorm_old <- like*prior_old\n",
    "post_old <- post_unorm_old/(step * sum(post_unorm_old))\n",
    "\n",
    "# Bayesian estimator\n",
    "mean <- sum(p * post_beta)*step\n",
    "var <- sum(((mean)^2)*post_beta)*step\n",
    "cred_int <- ncredint(p, post_beta, level = 0.95)\n",
    "\n",
    "mean_old <- sum(p * post_old)*step\n",
    "var_old <- sum(((mean_old)^2)*post_old)*step\n",
    "cred_int_old <- ncredint(p, post_old, level = 0.95)\n",
    "\n",
    "# Output results\n",
    "cat(\"For first prior:\\n\")\n",
    "cat(\"Posterior mean:\", mean, \"\\n\")\n",
    "cat(\"Posterior variance:\", var, \"\\n\")\n",
    "cat(\"95% credible interval:\", cred_int,\"\\n\")\n",
    "\n",
    "cat(\"For second prior (old):\\n\")\n",
    "cat(\"Posterior mean:\", mean_old, \"\\n\")\n",
    "cat(\"Posterior variance:\", var_old, \"\\n\")\n",
    "cat(\"95% credible interval:\", cred_int_old,\"\\n\")\n",
    "\n",
    "# Plot the first prior\n",
    "plot(p, post_beta, type = \"l\", col = \"blue\", lwd = 2, xlab = \"p\", ylab = \"Density\", main = \"Posterior Distribution for first prior\")\n",
    "abline(v = mean, lty = 2, col = \"red\")\n",
    "abline(v = cred_int, lty = 4, col = \"green\")\n",
    "legend(\"topright\", legend = c(\"Posterior\", \"Mean\", \"Credibility Interval\"), col = c(\"blue\", \"red\", \"green\"), lwd = 2)\n",
    "\n",
    "# Plot the second prior\n",
    "plot(p, post_old, type = \"l\", col = \"blue\", lwd = 2, xlab = \"p\", ylab = \"Density\", main = \"Posterior Distribution for second prior\")\n",
    "abline(v = mean_old, lty = 2, col = \"red\")\n",
    "abline(v = cred_int_old, lty = 4, col = \"green\")\n",
    "legend(\"topright\", legend = c(\"Posterior\", \"Mean\", \"Credibility Interval\"), col = c(\"blue\", \"red\", \"green\"), lwd = 2)"
   ]
  },
  {
   "cell_type": "markdown",
   "id": "83c82fa0",
   "metadata": {},
   "source": [
    "### g)"
   ]
  },
  {
   "cell_type": "code",
   "execution_count": 11,
   "id": "ff348b85",
   "metadata": {},
   "outputs": [
    {
     "name": "stdout",
     "output_type": "stream",
     "text": [
      "Posterior mean: 0.05681818 \n",
      "Posterior variance: 0.0003027677 \n",
      "95% credible interval: 0.02773918 0.09538012 \n"
     ]
    },
    {
     "data": {
      "image/png": "[encoded data removed]",
      "text/plain": [
       "Plot with title \"Posterior Distribution\""
      ]
     },
     "metadata": {
      "image/png": {
       "height": 420,
       "width": 420
      }
     },
     "output_type": "display_data"
    }
   ],
   "source": [
    "# Parameters\n",
    "alpha <- 1\n",
    "beta <- 10\n",
    "n <- 165\n",
    "y <- 9\n",
    "step <- 0.0001\n",
    "p <- seq(0, 1, by = step)\n",
    "\n",
    "# Likelihood and prior\n",
    "like <- dbinom(y, size=n, prob=p)\n",
    "prior <- dbeta(p, alpha, beta)\n",
    "\n",
    "# Posterior\n",
    "post_unorm <- like*prior\n",
    "post <- post_unorm/(step * sum(post_unorm))\n",
    "\n",
    "# Posterior parameters\n",
    "alpha_post <- alpha + y\n",
    "beta_post <- beta + n - y\n",
    "\n",
    "# Bayesian estimator for p (posterior mean)\n",
    "p_bayes <- alpha_post / (alpha_post + beta_post)\n",
    "\n",
    "# Posterior variance\n",
    "p_var <- (alpha_post * beta_post) / ((alpha_post + beta_post)^2 * (alpha_post + beta_post + 1))\n",
    "\n",
    "# 95% credible interval\n",
    "p_cred_int <- qbeta(c(0.025, 0.975), alpha_post, beta_post)\n",
    "\n",
    "# Output results\n",
    "cat(\"Posterior mean:\", p_bayes, \"\\n\")\n",
    "cat(\"Posterior variance:\", p_var, \"\\n\")\n",
    "cat(\"95% credible interval:\", p_cred_int, \"\\n\")\n",
    "\n",
    "# Plot the posterior distribution\n",
    "plot(p, post, type = \"l\", col = \"blue\", lwd = 2, xlab = \"p\", ylab = \"Density\", main = \"Posterior Distribution\")\n",
    "abline(v = p_bayes, lty = 2, col = \"red\")\n",
    "abline(v = p_cred_int, lty = 4, col = \"green\")\n",
    "legend(\"topright\", legend = c(\"Posterior\", \"Mean\", \"Credibility Interval\"), col = c(\"blue\", \"red\", \"green\"), lwd = 2)"
   ]
  },
  {
   "cell_type": "markdown",
   "id": "f81fd2f4",
   "metadata": {},
   "source": [
    "### h)"
   ]
  },
  {
   "cell_type": "markdown",
   "id": "fba64929",
   "metadata": {},
   "source": [
    "Hypothesis test: bayesian approach"
   ]
  },
  {
   "cell_type": "code",
   "execution_count": 12,
   "id": "f0765786",
   "metadata": {},
   "outputs": [
    {
     "name": "stdout",
     "output_type": "stream",
     "text": [
      "Posterior probability of null hypothesis:  98.43 %\n",
      "Posterior probability of alternative hypothesis:  1.57 %\n",
      "Cannot reject the null hypothesis.\n"
     ]
    },
    {
     "data": {
      "image/png": "[encoded data removed]",
      "text/plain": [
       "Plot with title \"Posterior Distribution\""
      ]
     },
     "metadata": {
      "image/png": {
       "height": 420,
       "width": 420
      }
     },
     "output_type": "display_data"
    }
   ],
   "source": [
    "# Probability greater or equal to 10% = NULL hypothesis\n",
    "null_posterior <- pbeta(0.1, shape1 = alpha_post, shape2 = beta_post)\n",
    "alt_posterior <- 1 - null_posterior\n",
    "\n",
    "# print results\n",
    "cat(paste(\"Posterior probability of null hypothesis: \", round(null_posterior, 4)*100, \"%\\n\"))\n",
    "cat(paste(\"Posterior probability of alternative hypothesis: \", round(alt_posterior, 4)*100, \"%\\n\"))\n",
    "\n",
    "# Perform the hypothesis test with 5% level of significance\n",
    "if (null_posterior <= 0.05) {\n",
    "  cat(\"Reject the null hypothesis.\\n\")\n",
    "} else {\n",
    "  cat(\"Cannot reject the null hypothesis.\\n\")\n",
    "}\n",
    "\n",
    "# Plot the posterior distribution\n",
    "x <- seq(0, 1, length.out = 100)\n",
    "posterior <- dbeta(x, alpha_post, beta_post)\n",
    "plot(x, posterior, type = \"l\", main = \"Posterior Distribution\", xlab = \"Probability of null hypothesis\", ylab = \"Density\")\n",
    "\n",
    "# Shade the critical region\n",
    "crit_x <- seq(0.1, 1, length.out = 100)\n",
    "crit_y <- dbeta(crit_x, alpha_post, beta_post)\n",
    "polygon(c(crit_x, rev(crit_x)), c(rep(0, length(crit_x)), rev(crit_y)), col = \"skyblue\")"
   ]
  },
  {
   "cell_type": "markdown",
   "id": "cc461f46",
   "metadata": {},
   "source": [
    "Hypothesis test: frequentist approach"
   ]
  },
  {
   "cell_type": "code",
   "execution_count": 13,
   "id": "e2151e12",
   "metadata": {},
   "outputs": [
    {
     "name": "stdout",
     "output_type": "stream",
     "text": [
      "The p-value of the test is 0.0274604 \n",
      "Reject the null hypothesis.\n"
     ]
    },
    {
     "data": {
      "image/png": "[encoded data removed]",
      "text/plain": [
       "Plot with title \"Binomial Distribution\""
      ]
     },
     "metadata": {
      "image/png": {
       "height": 420,
       "width": 420
      }
     },
     "output_type": "display_data"
    }
   ],
   "source": [
    "# Perform the binomial test\n",
    "test_result <- binom.test(y, n, p = 0.1, alternative = \"less\")\n",
    "\n",
    "# Report the result of the test\n",
    "cat(\"The p-value of the test is\", test_result$p.value, \"\\n\")\n",
    "if (test_result$p.value <= 0.05) {\n",
    "  cat(\"Reject the null hypothesis.\\n\")\n",
    "} else {\n",
    "  cat(\"Cannot reject the null hypothesis.\\n\")\n",
    "}\n",
    "\n",
    "# Plot the binomial distribution\n",
    "x <- 0:n\n",
    "prob <- dbinom(x, n, 0.15)\n",
    "barplot(prob, names.arg = x, main = \"Binomial Distribution\", col = \"#1b98e0\", xlab = \"Number of Successes\", ylab = \"Probability\")\n",
    "\n",
    "# Add a horizontal line representing the significance level\n",
    "abline(h = 0.05, col = \"red\", lwd = 2, lty = 'dashed')\n",
    "\n",
    "legend(\"topright\", legend = c(\"Binomial Distribution\", \"Significance Level\"),\n",
    "       fill = c(\"#1b98e0\", \"red\"), lty = 0)"
   ]
  },
  {
   "cell_type": "markdown",
   "id": "bd0c55dd",
   "metadata": {},
   "source": [
    "# Exercise 4"
   ]
  },
  {
   "cell_type": "markdown",
   "id": "1038e8f9",
   "metadata": {},
   "source": [
    "(b) using a Beta(1, 10) prior for p, calculate and posterior distribution P(p|y)\n",
    "(c) find the bayesian estimator for p, the posterior mean and variance, and a 95% credible interval"
   ]
  },
  {
   "cell_type": "code",
   "execution_count": 55,
   "id": "3c992f21",
   "metadata": {},
   "outputs": [
    {
     "name": "stdout",
     "output_type": "stream",
     "text": [
      "Compiling model graph\n",
      "   Resolving undeclared variables\n",
      "   Allocating nodes\n",
      "Graph information:\n",
      "   Observed stochastic nodes: 1\n",
      "   Unobserved stochastic nodes: 2\n",
      "   Total graph size: 7\n",
      "\n",
      "Initializing model\n",
      "\n"
     ]
    },
    {
     "data": {
      "image/png": "[encoded data removed]",
      "text/plain": [
       "Plot with title \"Density of y\""
      ]
     },
     "metadata": {
      "image/png": {
       "height": 420,
       "width": 420
      }
     },
     "output_type": "display_data"
    }
   ],
   "source": [
    "# Set the data\n",
    "data <- NULL\n",
    "data$x <- 11\n",
    "data$n <- 116\n",
    "data$n_next <- 10\n",
    "\n",
    "# Define the JAGS model\n",
    "model <- \"model_4.txt\"\n",
    "\n",
    "# Initialize the model\n",
    "jm <- jags.model(model, data)\n",
    "update(jm, 1000)\n",
    "\n",
    "# Run the MCMC simulation\n",
    "\n",
    "chain <- coda.samples(jm, c('p','y'), n.iter = 10000)\n",
    "\n",
    "#plot the chain\n",
    "plot(chain, col='navy')"
   ]
  },
  {
   "cell_type": "code",
   "execution_count": 68,
   "id": "4b96205a",
   "metadata": {},
   "outputs": [
    {
     "name": "stdout",
     "output_type": "stream",
     "text": [
      "Bayesian estimator for p (posterior mean): 0.09451383 \n",
      "Posterior variance: 0.000668914 \n",
      "95% Credible Interval: 0.05005677 0.151419 \n"
     ]
    },
    {
     "data": {
      "image/png": "[encoded data removed]",
      "text/plain": [
       "plot without title"
      ]
     },
     "metadata": {
      "image/png": {
       "height": 420,
       "width": 420
      }
     },
     "output_type": "display_data"
    }
   ],
   "source": [
    "# Extract posterior samples\n",
    "posterior_samples <- as.data.frame(as.mcmc(chain))\n",
    "\n",
    "# Calculate posterior mean and variance\n",
    "posterior_mean <- mean(posterior_samples$p)\n",
    "posterior_variance <- var(posterior_samples$p)\n",
    "\n",
    "# Calculate 95% credible interval\n",
    "credible_interval <- quantile(posterior_samples$p, c(0.025, 0.975))\n",
    "\n",
    "# Print results\n",
    "cat(\"Bayesian estimator for p (posterior mean):\",posterior_mean, \"\\n\")\n",
    "cat(\"Posterior variance:\", posterior_variance, \"\\n\")\n",
    "cat(\"95% Credible Interval:\", credible_interval, \"\\n\")\n",
    "\n",
    "# Plot the posterior distribution\n",
    "ggplot()+\n",
    "  geom_histogram(aes(x=posterior_samples$p, y = ..density..), bins = 30, fill = \"lightblue\", alpha =0.7, color = \"navy\") +\n",
    "  geom_density(color = \"red\") +\n",
    "  geom_vline(aes(xintercept = credible_interval[1]), linetype = \"dotted\", color = \"blue\") +\n",
    "  geom_vline(aes(xintercept = credible_interval[2]), linetype = \"dotted\", color = \"blue\") +\n",
    "  labs(x = \"p\", y = \"Density\", title = \"Posterior Distribution\") -> plot_inference\n",
    "\n",
    "# Generate future predictions\n",
    "ty <- as.data.frame(table(posterior_samples$y))\n",
    "ggplot()+\n",
    "geom_bar(aes(x = ty_1$Var1, y=ty_1$Freq, fill='Observation 1'), alpha=0.5, stat = 'identity')+\n",
    "geom_bar(aes(x = ty_2$Var1, y=ty_2$Freq, fill='Observation 2'), alpha=0.5, stat = 'identity')+\n",
    "labs(x='Death per day', y='Number of sample', \n",
    "     title=sprintf('Successes in future trials (for uniform prior)')) -> plot_prediction\n",
    "\n",
    "grid.arrange(grobs=list(plot_inference, plot_prediction), nrow = 2)"
   ]
  },
  {
   "cell_type": "markdown",
   "id": "79689ba3",
   "metadata": {},
   "source": [
    "As it can be seen, the results of the MCMC are compatible with those computed in Exercise 3. "
   ]
  },
  {
   "cell_type": "code",
   "execution_count": 69,
   "id": "b78189ab",
   "metadata": {},
   "outputs": [
    {
     "data": {
      "text/plain": [
       "\n",
       "Iterations = 1001:11000\n",
       "Thinning interval = 1 \n",
       "Number of chains = 1 \n",
       "Sample size per chain = 10000 \n",
       "\n",
       "1. Empirical mean and standard deviation for each variable,\n",
       "   plus standard error of the mean:\n",
       "\n",
       "     Mean      SD  Naive SE Time-series SE\n",
       "p 0.09451 0.02586 0.0002586      0.0002586\n",
       "y 0.95140 0.96246 0.0096246      0.0096246\n",
       "\n",
       "2. Quantiles for each variable:\n",
       "\n",
       "     2.5%     25%     50%    75%  97.5%\n",
       "p 0.05006 0.07606 0.09246 0.1106 0.1514\n",
       "y 0.00000 0.00000 1.00000 1.0000 3.0000\n"
      ]
     },
     "metadata": {},
     "output_type": "display_data"
    }
   ],
   "source": [
    "summary(chain)"
   ]
  },
  {
   "cell_type": "code",
   "execution_count": 25,
   "id": "035bba95",
   "metadata": {},
   "outputs": [
    {
     "name": "stderr",
     "output_type": "stream",
     "text": [
      "Warning message in system(\"jupyter nbconvert --to html ex_rlab05.ipynb\"):\n",
      "\"'jupyter' not found\"\n"
     ]
    },
    {
     "data": {
      "text/html": [
       "127"
      ],
      "text/latex": [
       "127"
      ],
      "text/markdown": [
       "127"
      ],
      "text/plain": [
       "[1] 127"
      ]
     },
     "metadata": {},
     "output_type": "display_data"
    }
   ],
   "source": [
    "system(\"jupyter nbconvert --to html ex_rlab05.ipynb\")"
   ]
  },
  {
   "cell_type": "code",
   "execution_count": null,
   "id": "5f84ba61",
   "metadata": {},
   "outputs": [],
   "source": []
  }
 ],
 "metadata": {
  "kernelspec": {
   "display_name": "R",
   "language": "R",
   "name": "ir"
  },
  "language_info": {
   "codemirror_mode": "r",
   "file_extension": ".r",
   "mimetype": "text/x-r-source",
   "name": "R",
   "pygments_lexer": "r",
   "version": "4.1.3"
  }
 },
 "nbformat": 4,
 "nbformat_minor": 5
}
