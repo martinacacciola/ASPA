{
 "cells": [
  {
   "cell_type": "markdown",
   "id": "1bc708f9",
   "metadata": {},
   "source": [
    "### Rlab02 - Martina Cacciola (2097476)"
   ]
  },
  {
   "cell_type": "markdown",
   "id": "f5269790",
   "metadata": {},
   "source": [
    "## Exercise 1 - Discrete random variable"
   ]
  },
  {
   "cell_type": "code",
   "execution_count": 1,
   "id": "25135368",
   "metadata": {
    "scrolled": true
   },
   "outputs": [
    {
     "name": "stderr",
     "output_type": "stream",
     "text": [
      "-- \u001b[1mAttaching packages\u001b[22m --------------------------------------- tidyverse 1.3.2 --\n",
      "\u001b[32mv\u001b[39m \u001b[34mggplot2\u001b[39m 3.4.2     \u001b[32mv\u001b[39m \u001b[34mpurrr  \u001b[39m 1.0.1\n",
      "\u001b[32mv\u001b[39m \u001b[34mtibble \u001b[39m 3.2.1     \u001b[32mv\u001b[39m \u001b[34mdplyr  \u001b[39m 1.1.2\n",
      "\u001b[32mv\u001b[39m \u001b[34mtidyr  \u001b[39m 1.3.0     \u001b[32mv\u001b[39m \u001b[34mstringr\u001b[39m 1.5.0\n",
      "\u001b[32mv\u001b[39m \u001b[34mreadr  \u001b[39m 2.1.4     \u001b[32mv\u001b[39m \u001b[34mforcats\u001b[39m 1.0.0\n",
      "-- \u001b[1mConflicts\u001b[22m ------------------------------------------ tidyverse_conflicts() --\n",
      "\u001b[31mx\u001b[39m \u001b[34mdplyr\u001b[39m::\u001b[32mfilter()\u001b[39m         masks \u001b[34mstats\u001b[39m::filter()\n",
      "\u001b[31mx\u001b[39m \u001b[34mreadr\u001b[39m::\u001b[32mguess_encoding()\u001b[39m masks \u001b[34mrvest\u001b[39m::guess_encoding()\n",
      "\u001b[31mx\u001b[39m \u001b[34mdplyr\u001b[39m::\u001b[32mlag()\u001b[39m            masks \u001b[34mstats\u001b[39m::lag()\n",
      "\n",
      "Caricamento pacchetto: 'lubridate'\n",
      "\n",
      "\n",
      "I seguenti oggetti sono mascherati da 'package:base':\n",
      "\n",
      "    date, intersect, setdiff, union\n",
      "\n",
      "\n"
     ]
    }
   ],
   "source": [
    "library(rvest)\n",
    "library(tidyverse)\n",
    "library(ggplot2)\n",
    "library(lubridate)\n",
    "library(dplyr)\n",
    "library(tidyr)"
   ]
  },
  {
   "cell_type": "markdown",
   "id": "9c01549c",
   "metadata": {},
   "source": [
    "## 1)"
   ]
  },
  {
   "cell_type": "code",
   "execution_count": 10,
   "id": "481b39aa",
   "metadata": {},
   "outputs": [],
   "source": [
    "#probability density function\n",
    "prob_d <- function(k) {\n",
    "  p <- numeric(length(k))\n",
    "  p[k >= 1 & k <= 5 & k %% 1 == 0] <- k[k >= 1 & k <= 5 & k %% 1 == 0]/15\n",
    "  return(p)\n",
    "}\n",
    "\n",
    "#cumulative density function\n",
    "cum_d <- function(k){\n",
    "    return(cumsum(prob_d(k)))\n",
    "}"
   ]
  },
  {
   "cell_type": "markdown",
   "id": "6563c6bf",
   "metadata": {},
   "source": [
    "## 2)"
   ]
  },
  {
   "cell_type": "code",
   "execution_count": 11,
   "id": "a9620d8e",
   "metadata": {},
   "outputs": [
    {
     "data": {
      "image/png": "[encoded data removed]",
      "text/plain": [
       "plot without title"
      ]
     },
     "metadata": {
      "image/png": {
       "height": 420,
       "width": 420
      }
     },
     "output_type": "display_data"
    },
    {
     "data": {
      "image/png": "[encoded data removed]",
      "text/plain": [
       "plot without title"
      ]
     },
     "metadata": {
      "image/png": {
       "height": 420,
       "width": 420
      }
     },
     "output_type": "display_data"
    }
   ],
   "source": [
    "k = -2:8\n",
    "# Probability Distribution Plot\n",
    "ggplot() + \n",
    "  geom_step(aes(x = k, y = prob_d(k)), color = 'red') +\n",
    "  labs(title = \"Probability Distribution\", x = \"k\", y = \"Density\")\n",
    "\n",
    "# Cumulative Distribution Plot\n",
    "ggplot() + \n",
    "  geom_step(aes(x = k, y = cum_d(k)), color = 'blue') +\n",
    "  labs(title = \"Cumulative Distribution\", x = \"k\", y = \"Density\")    "
   ]
  },
  {
   "cell_type": "markdown",
   "id": "7c1a1c6d",
   "metadata": {},
   "source": [
    "## 3)"
   ]
  },
  {
   "cell_type": "code",
   "execution_count": 12,
   "id": "4d59f510",
   "metadata": {},
   "outputs": [
    {
     "name": "stdout",
     "output_type": "stream",
     "text": [
      "Mean Value:  3.666667 \n",
      "Variance:  1.555556 \n"
     ]
    }
   ],
   "source": [
    "# Define the range of k values\n",
    "k_values <- 1:5\n",
    "\n",
    "# Calculate the probabilities\n",
    "pk <- ifelse(k_values >= 1 & k_values <= 5, k_values/15, 0)\n",
    "\n",
    "# Compute the mean\n",
    "mean_k <- sum(k_values * pk)\n",
    "\n",
    "# Compute the variance\n",
    "var_k <- sum((k_values - mean_k)^2 * pk)\n",
    "\n",
    "# Print the results\n",
    "cat(\"Mean Value: \", mean_k, \"\\n\")\n",
    "cat(\"Variance: \", var_k, \"\\n\")"
   ]
  },
  {
   "cell_type": "markdown",
   "id": "bf385d52",
   "metadata": {},
   "source": [
    "## 4)"
   ]
  },
  {
   "cell_type": "markdown",
   "id": "47006666",
   "metadata": {},
   "source": [
    "We want to compute the expected value of the variable `k * (6-k)` given the probability density function `f(k)`. The expected value of a discrete random variable `X` with probability density function `p(x)` is defined as the sum of the products of each possible value of `X` and its probability: `E[X] = sum(x * p(x))`. "
   ]
  },
  {
   "cell_type": "code",
   "execution_count": 14,
   "id": "cc1737da",
   "metadata": {},
   "outputs": [
    {
     "name": "stdout",
     "output_type": "stream",
     "text": [
      "Expected value: 3.333"
     ]
    }
   ],
   "source": [
    "# Create a vector with all possible values of k(6-k)\n",
    "k_values <- 1:5\n",
    "X <- k_values*(6-k_values)\n",
    "# Apply the prob_d function to each element of X\n",
    "prob <- sapply(X, prob_d)\n",
    "\n",
    "# Compute the expected value E[k(6-k)]\n",
    "expected_value <- sum(prob*X) \n",
    "cat(paste('Expected value:', round(expected_value,3)))"
   ]
  },
  {
   "cell_type": "markdown",
   "id": "8393392f",
   "metadata": {},
   "source": [
    "## 5)"
   ]
  },
  {
   "cell_type": "code",
   "execution_count": 16,
   "id": "ef0e4c45",
   "metadata": {},
   "outputs": [
    {
     "name": "stdout",
     "output_type": "stream",
     "text": [
      "Sample: 1 3 5 4 4 4 5 3 4 5"
     ]
    }
   ],
   "source": [
    "# Define the sample_from_f function\n",
    "sample_from_f <- function(n) {\n",
    "  sample(1:5, size = n, replace = TRUE, prob = sapply(1:5, f))\n",
    "}\n",
    "\n",
    "# Sample 10 random numbers from the probability distribution defined by f(k)\n",
    "samples <- sample_from_f(10)\n",
    "cat(\"Sample:\", samples)"
   ]
  },
  {
   "cell_type": "markdown",
   "id": "75247e7b",
   "metadata": {},
   "source": [
    "## 6)"
   ]
  },
  {
   "cell_type": "code",
   "execution_count": 18,
   "id": "21e657c7",
   "metadata": {},
   "outputs": [
    {
     "data": {
      "image/png": "[encoded data removed]",
      "text/plain": [
       "plot without title"
      ]
     },
     "metadata": {
      "image/png": {
       "height": 480,
       "width": 480
      }
     },
     "output_type": "display_data"
    }
   ],
   "source": [
    "# Sample 10^5 random numbers from the probability distribution defined by p(k)\n",
    "samples <- sample_from_f(10^5)\n",
    "\n",
    "# Create a data frame with the samples and their counts\n",
    "df <- data.frame(samples)\n",
    "\n",
    "# Create a data frame with the probability density function\n",
    "k <- 1:5\n",
    "p_k <- k/15\n",
    "density_df <- data.frame(k=k, p_k=p_k)\n",
    "\n",
    "# Plot the histogram of the samples and the probability density function\n",
    "ggplot(df, aes(x=samples)) +\n",
    "  geom_histogram(aes(y=after_stat(density),fill=\"Sample Values\"), binwidth=1, color=\"black\") +\n",
    "  geom_line(data=density_df, aes(x=k, y=p_k, color=\"PDF\")) +\n",
    "  labs(title='Random Sample vs. PDF', x='Sample Values', y='Probability') +\n",
    "  scale_fill_manual(name=\"\", values=c(\"Sample Values\"=\"white\")) +\n",
    "  scale_color_manual(name=\"\", values=c(\"PDF\"=\"red\")) +\n",
    "  guides(fill=guide_legend(title=NULL), color=guide_legend(title=NULL))\n",
    "options(repr.plot.width=8, repr.plot.height=8)"
   ]
  },
  {
   "cell_type": "markdown",
   "id": "62966d1c",
   "metadata": {},
   "source": [
    "Da togliere"
   ]
  },
  {
   "cell_type": "code",
   "execution_count": 13,
   "id": "405f771a",
   "metadata": {},
   "outputs": [
    {
     "data": {
      "image/png": "[encoded data removed]",
      "text/plain": [
       "plot without title"
      ]
     },
     "metadata": {
      "image/png": {
       "height": 360,
       "width": 600
      }
     },
     "output_type": "display_data"
    }
   ],
   "source": [
    "# Sample 10^5 random numbers from the probability distribution defined by f(k)\n",
    "samples <- sample_from_f(100000)\n",
    "# Create a data frame with the samples and their counts\n",
    "df = data.frame(x= samples)\n",
    "\n",
    "# Create a data frame with the probability and cumulative density\n",
    "density_df <- data.frame(x=k, y=prob_d(k), z=cum_d(k))\n",
    "\n",
    "ggplot() + \n",
    "    geom_histogram(data=df, aes(x=samples, y=after_stat(density), fill=\"Sample Values\"),color=\"black\", binwidth=1)+\n",
    "    labs(title='Random Sample vs. PDF', x='Samples values', y='Probability')+\n",
    "    geom_step(data=density_df, aes(x = k, y = y, color='PDF')) +\n",
    "    scale_fill_manual(name=\"\", values=c(\"Sample Values\"=\"white\")) +\n",
    "    scale_color_manual(name=\"\", values=c(\"PDF\"=\"red\")) +\n",
    "    guides(fill=guide_legend(title=NULL), color=guide_legend(title=NULL))\n",
    "options(repr.plot.width=9, repr.plot.height=6)"
   ]
  },
  {
   "cell_type": "markdown",
   "id": "765346cb",
   "metadata": {},
   "source": [
    "## Exercise 2 - Continuous random variable"
   ]
  },
  {
   "cell_type": "markdown",
   "id": "dc964f44",
   "metadata": {},
   "source": [
    "## a)"
   ]
  },
  {
   "cell_type": "code",
   "execution_count": 37,
   "id": "212b8b1b",
   "metadata": {},
   "outputs": [
    {
     "data": {
      "image/png": "[encoded data removed]",
      "text/plain": [
       "plot without title"
      ]
     },
     "metadata": {
      "image/png": {
       "height": 480,
       "width": 480
      }
     },
     "output_type": "display_data"
    }
   ],
   "source": [
    "# Define the function f(x)\n",
    "f <- function(x, a, b, c) {\n",
    "  ifelse(x >= a & x < c, 2 * (x - a) / ((b - a) * (c - a)),\n",
    "         ifelse(x >= c & x <= b, 2 * (b - x) / ((b - a) * (b - c)), 0))\n",
    "}\n",
    "\n",
    "# Set the values of a, b and c\n",
    "a <- 0\n",
    "b <- 10\n",
    "c <- 5\n",
    "\n",
    "# Create a data frame with x values in the interval (a, b)\n",
    "x_df <- data.frame(x = seq(a, b, length.out = 100))\n",
    "\n",
    "# Plot the function f(x)\n",
    "ggplot(x_df, aes(x = x, y = f(x, a, b, c))) +\n",
    "  geom_line(color = \"blue\") +\n",
    "  labs(title = \"Triangular Distribution\", x = \"x\", y = \"f(x)\")"
   ]
  },
  {
   "cell_type": "markdown",
   "id": "afb7da95",
   "metadata": {},
   "source": [
    "## b)"
   ]
  },
  {
   "cell_type": "code",
   "execution_count": 38,
   "id": "f7d0b8c7",
   "metadata": {},
   "outputs": [
    {
     "name": "stdout",
     "output_type": "stream",
     "text": [
      "Sample: 6.482074 4.435239 5.66016 5.457403 5.362297 9.45672 5.136338 6.802621 6.474867 3.70032"
     ]
    }
   ],
   "source": [
    "# Define the inverse cumulative distribution function (CDF) of f(x)\n",
    "inv_cdf <- function(p, a, b, c) {\n",
    "  ifelse(p < (c - a) / (b - a), a + sqrt(p * (b - a) * (c - a)),\n",
    "         b - sqrt((1 - p) * (b - a) * (b - c)))\n",
    "}\n",
    "\n",
    "# Set the values of a, b and c\n",
    "a <- 0\n",
    "b <- 10\n",
    "c <- 5\n",
    "\n",
    "# Generate 10 random numbers from the triangular distribution\n",
    "samples <- inv_cdf(runif(10), a, b, c)\n",
    "cat(\"Sample:\", samples)"
   ]
  },
  {
   "cell_type": "markdown",
   "id": "7251becd",
   "metadata": {},
   "source": [
    "## c)"
   ]
  },
  {
   "cell_type": "code",
   "execution_count": 41,
   "id": "e69fc0bf",
   "metadata": {},
   "outputs": [
    {
     "data": {
      "image/png": "[encoded data removed]",
      "text/plain": [
       "plot without title"
      ]
     },
     "metadata": {
      "image/png": {
       "height": 480,
       "width": 480
      }
     },
     "output_type": "display_data"
    }
   ],
   "source": [
    "# Generate 10^4 random numbers from the triangular distribution\n",
    "samples <- inv_cdf(runif(10^4), a, b, c)\n",
    "\n",
    "# Plot the samples as a histogram and superimpose the analytical curve\n",
    "ggplot(data.frame(x = samples), aes(x = x)) +\n",
    "  geom_histogram(aes(y = after_stat(density), fill = \"Samples\"), bins = 30, alpha = 0.5) +\n",
    "  stat_function(fun = function(x) f(x, a, b, c), aes(color = \"PDF\")) +\n",
    "  labs(title = \"Samples and Analytical Curve\", x = \"x\", y = \"Density\")+\n",
    "  scale_fill_manual(name=\"\", values=c(\"Samples\"=\"blue\")) +\n",
    "  scale_color_manual(name=\"\", values=c(\"PDF\"=\"red\")) +\n",
    "  guides(fill=guide_legend(title=NULL), color=guide_legend(title=NULL))              "
   ]
  },
  {
   "cell_type": "markdown",
   "id": "71c2e2e9",
   "metadata": {},
   "source": [
    "## Exercise 3 "
   ]
  },
  {
   "cell_type": "markdown",
   "id": "092feb08",
   "metadata": {},
   "source": [
    "## a)"
   ]
  },
  {
   "cell_type": "code",
   "execution_count": 19,
   "id": "8dafaa11",
   "metadata": {},
   "outputs": [
    {
     "data": {
      "image/png": "[encoded data removed]",
      "text/plain": [
       "plot without title"
      ]
     },
     "metadata": {
      "image/png": {
       "height": 480,
       "width": 480
      }
     },
     "output_type": "display_data"
    }
   ],
   "source": [
    "# Set the rate of the exponential distribution\n",
    "rate <- 1/30\n",
    "\n",
    "# Simulate the waiting time for 60 people at the doctor's office\n",
    "waiting_times <- rexp(60, rate = rate)\n",
    "\n",
    "# Plot the waiting times as a histogram\n",
    "ggplot(data.frame(x = waiting_times), aes(x = x)) +\n",
    "  geom_histogram(bins = 30, fill = \"blue\", alpha = 0.5) +\n",
    "  labs(title = \"Waiting Times\", x = \"Waiting Time (minutes)\", y = \"Count\")"
   ]
  },
  {
   "cell_type": "markdown",
   "id": "b508c091",
   "metadata": {},
   "source": [
    "## b)"
   ]
  },
  {
   "cell_type": "code",
   "execution_count": 25,
   "id": "3a288fab",
   "metadata": {},
   "outputs": [
    {
     "name": "stdout",
     "output_type": "stream",
     "text": [
      "Probability of waiting less than 12 minutes: 32.97 %"
     ]
    }
   ],
   "source": [
    "# Define the time value for which we calculate the probability\n",
    "time <- 12\n",
    "\n",
    "# Use the pexp function to calculate the probability of waiting less than the specified time\n",
    "prob <- pexp(time, rate)\n",
    "cat(\"Probability of waiting less than\", time, \"minutes:\", round(prob*100,2),\"%\")"
   ]
  },
  {
   "cell_type": "markdown",
   "id": "69e2151f",
   "metadata": {},
   "source": [
    "## c)"
   ]
  },
  {
   "cell_type": "markdown",
   "id": "7526181e",
   "metadata": {},
   "source": [
    "In case of an exponential distribution, the expected value is given by $E[x]=1/\\lambda$ where $\\lambda$ corresponds to the rate parameter."
   ]
  },
  {
   "cell_type": "code",
   "execution_count": 26,
   "id": "334471de",
   "metadata": {},
   "outputs": [
    {
     "name": "stdout",
     "output_type": "stream",
     "text": [
      "Average waiting time from simulated data: 32.19 min \n",
      "Expected waiting time from theory: 30 min"
     ]
    }
   ],
   "source": [
    "# Calculate the average waiting time from the simulated data\n",
    "avg_waiting_time <- mean(waiting_times)\n",
    "\n",
    "# Calculate the expected value of the waiting time from theory\n",
    "theoretical_value <- 1/rate\n",
    "\n",
    "# Compare the average waiting time with the expected value\n",
    "cat(\"Average waiting time from simulated data:\", round(avg_waiting_time,2), \"min\", \"\\n\")\n",
    "cat(\"Expected waiting time from theory:\", theoretical_value, \"min\")"
   ]
  },
  {
   "cell_type": "markdown",
   "id": "00b34e84",
   "metadata": {},
   "source": [
    "## d)"
   ]
  },
  {
   "cell_type": "code",
   "execution_count": 27,
   "id": "0cb3c0ea",
   "metadata": {},
   "outputs": [
    {
     "name": "stdout",
     "output_type": "stream",
     "text": [
      "Probability of waiting more than 60 minutes: 13.53 %"
     ]
    }
   ],
   "source": [
    "# Set the time value for which we calculate the probability\n",
    "time <- 60\n",
    "\n",
    "# Calculate the probability of waiting more than the specified time\n",
    "prob <- 1 - pexp(time, rate)\n",
    "\n",
    "# Print the result\n",
    "cat(\"Probability of waiting more than\", time, \"minutes:\", round(prob*100,2), \"%\")"
   ]
  },
  {
   "cell_type": "markdown",
   "id": "29765035",
   "metadata": {},
   "source": [
    "## Exercise 4 -Multiple choices exams"
   ]
  },
  {
   "cell_type": "markdown",
   "id": "267a7bf0",
   "metadata": {},
   "source": [
    "Let `K` be the event that the student knows the answer and `C` be the event that the student gives a correct answer. We want to find the probability that the student knows the answer given that they gave a correct answer, or `P(K|C)`.\n",
    "\n",
    "There are 5 possible answers. We are given that `P(K) = 0.7`, the probability that the student knows the answer and `P(N) = 1-0.7 = 0.3` of not knowing the answer. If the student does not know the answer, they have a 1/5 chance of guessing correctly, so `P(C|N) = 1/5` and `P(W|N) =4/5` chance of doing wrong. If the student knows the answer, they will always give a correct answer, so `P(C|K) = 1`.\n",
    "\n",
    "Using Bayes’ theorem, we can calculate `P(K|C)` as follows:\n",
    "\n",
    "$P(K|C) = \\frac{P(C|K) \\cdot P(K)}{P(C)} = \\frac{P(C|K) \\cdot P(K)}{P(C|K) \\cdot P(K) + P(C|N) \\cdot P(N)}$"
   ]
  },
  {
   "cell_type": "code",
   "execution_count": 28,
   "id": "c657c79c",
   "metadata": {},
   "outputs": [
    {
     "name": "stdout",
     "output_type": "stream",
     "text": [
      "Probability that the student knew the correct answer: 92.11 %"
     ]
    }
   ],
   "source": [
    "# Set the probability that the student knows the answer\n",
    "p <- 0.7\n",
    "\n",
    "# Calculate the probability that the student gives a correct answer given that they know it\n",
    "p_C_given_K <- 1\n",
    "\n",
    "# Calculate the probability that the student gives a correct answer given that they don't know it\n",
    "p_C_given_N <- 1/5\n",
    "\n",
    "# Use Bayes' theorem\n",
    "p_K_given_C <- p_C_given_K * p / (p_C_given_K * p + p_C_given_N * (1 - p))\n",
    "\n",
    "# Print the result\n",
    "cat(\"Probability that the student knew the correct answer:\", round(p_K_given_C*100,2), \"%\")"
   ]
  },
  {
   "cell_type": "markdown",
   "id": "8c7e60cd",
   "metadata": {},
   "source": [
    "## Exercise 5 - Waiting time"
   ]
  },
  {
   "cell_type": "markdown",
   "id": "e7f22fe0",
   "metadata": {},
   "source": [
    "## a)"
   ]
  },
  {
   "cell_type": "code",
   "execution_count": 66,
   "id": "1d60f36f",
   "metadata": {},
   "outputs": [
    {
     "name": "stdout",
     "output_type": "stream",
     "text": [
      "Probability of waiting at most 10 minutes: 33.33333 %"
     ]
    }
   ],
   "source": [
    "# Calculate the probability of waiting at most 10 minutes for a person who arrives at a random time between 10:45 and 11:45\n",
    "start_time <- as.POSIXct(\"10:45\", format=\"%H:%M\")\n",
    "end_time <- as.POSIXct(\"11:45\", format=\"%H:%M\")\n",
    "half_hours <- seq(from=start_time, to=end_time, by=\"30 mins\")\n",
    "waiting_times <- difftime(half_hours, start_time, units=\"mins\")\n",
    "prob <- length(waiting_times[waiting_times <= 10])/length(half_hours)\n",
    "\n",
    "# Print the result\n",
    "cat(\"Probability of waiting at most 10 minutes:\", prob*100,\"%\") "
   ]
  },
  {
   "cell_type": "markdown",
   "id": "b449a8b7",
   "metadata": {},
   "source": [
    "This code simulates 10000 arrival times uniformly distributed between 10:45 and 11:45, computes the waiting times by taking the modulo 0.5 (half an hour) of the arrival times, and then computes the conditional probabilities of waiting at most 10 minutes given that the person arrives in one of the two temporal slots where the average waiting time is less than or equal to 15 minutes. Finally, it computes the total probability using the law of total probability as the weighted sum of the conditional probabilities."
   ]
  },
  {
   "cell_type": "code",
   "execution_count": 33,
   "id": "54478ad3",
   "metadata": {},
   "outputs": [
    {
     "name": "stdout",
     "output_type": "stream",
     "text": [
      "Probability of waiting at most 10 minutes: 33.36 %"
     ]
    }
   ],
   "source": [
    "# Set the seed for reproducibility\n",
    "set.seed(123)\n",
    "\n",
    "# Simulate 10000 arrival times uniformly distributed between 10:45 and 11:45\n",
    "arrival_times <- runif(10000, 10 + 45/60, 11 + 45/60)\n",
    "\n",
    "# Compute the waiting times by taking the modulo 0.5 (half an hour) of the arrival times\n",
    "waiting_times <- arrival_times %% 0.5\n",
    "\n",
    "# Compute the probability of waiting at most 10 minutes\n",
    "prob <- mean(waiting_times <= 10/60)\n",
    "\n",
    "# Print the result\n",
    "cat(\"Probability of waiting at most 10 minutes:\", round(prob*100,2),\"%\")"
   ]
  },
  {
   "cell_type": "markdown",
   "id": "bcd38221",
   "metadata": {},
   "source": [
    "The probability of waiting at most `max_waiting_time` minutes is calculated assuming that the person arrives at a random time between two consecutive trains and that the time between two consecutive trains is uniformly distributed between `a` and `b` minutes. The probability is given by the ratio of `max_waiting_time` to the difference between `b` and `a`, which represents the total time interval between two consecutive trains."
   ]
  },
  {
   "cell_type": "code",
   "execution_count": 29,
   "id": "27c5b669",
   "metadata": {},
   "outputs": [
    {
     "name": "stdout",
     "output_type": "stream",
     "text": [
      "Probability of waiting at most 10 minutes: 33.33 %"
     ]
    }
   ],
   "source": [
    "# Set the lower and upper bounds of the uniform distribution\n",
    "a <- 0\n",
    "b <- 30   #half an hour\n",
    "\n",
    "# Set the maximum waiting time\n",
    "max_waiting_time <- 10\n",
    "\n",
    "# Calculate the probability of waiting at most max_waiting_time minutes\n",
    "prob <- max_waiting_time / (b - a)\n",
    "\n",
    "# Print the result\n",
    "cat(\"Probability of waiting at most\", max_waiting_time, \"minutes:\", round(prob*100,2),\"%\")"
   ]
  },
  {
   "cell_type": "markdown",
   "id": "8565f01f",
   "metadata": {},
   "source": [
    "## b)"
   ]
  },
  {
   "cell_type": "markdown",
   "id": "e66666e7",
   "metadata": {},
   "source": [
    "The probability of an event occurring when the underlying distribution is uniform is equal to the length of the interval during which the event occurs divided by the length of the total interval. In this case, the event of interest is waiting at least `min_waiting_time` minutes, which occurs during an interval of length `b - min_waiting_time`, and the total interval is of length `b - a`."
   ]
  },
  {
   "cell_type": "code",
   "execution_count": 64,
   "id": "89d97a75",
   "metadata": {},
   "outputs": [
    {
     "name": "stdout",
     "output_type": "stream",
     "text": [
      "Probability of waiting at least 15 minutes: 50 %"
     ]
    }
   ],
   "source": [
    "# Set the minimum waiting time\n",
    "min_waiting_time <- 15\n",
    "\n",
    "# Calculate the probability of waiting at least min_waiting_time minutes\n",
    "prob <- (b - min_waiting_time) / (b - a)\n",
    "\n",
    "# Print the result\n",
    "cat(\"Probability of waiting at least\", min_waiting_time, \"minutes:\", prob*100,\"%\")"
   ]
  },
  {
   "cell_type": "code",
   "execution_count": 34,
   "id": "52e161c0",
   "metadata": {},
   "outputs": [
    {
     "name": "stdout",
     "output_type": "stream",
     "text": [
      "Probability of waiting at least 15 minutes: 49.83 %"
     ]
    }
   ],
   "source": [
    "# Compute the waiting times by taking the modulo 0.5 (half an hour) of the arrival times\n",
    "waiting_times <- arrival_times %% 0.5\n",
    "\n",
    "# Compute the probability of waiting at least 15 minutes\n",
    "prob <- mean(waiting_times >= 15/60)\n",
    "# Print the result\n",
    "cat(\"Probability of waiting at least 15 minutes:\", prob*100,\"%\") "
   ]
  },
  {
   "cell_type": "markdown",
   "id": "76800507",
   "metadata": {},
   "source": [
    "## c)"
   ]
  },
  {
   "cell_type": "code",
   "execution_count": 32,
   "id": "088828eb",
   "metadata": {},
   "outputs": [
    {
     "name": "stdout",
     "output_type": "stream",
     "text": [
      "Average waiting time: 15 minutes"
     ]
    }
   ],
   "source": [
    "# Set the lower and upper bounds of the uniform distribution\n",
    "a <- 0\n",
    "b <- 30  \n",
    "\n",
    "# Calculate the expected waiting time\n",
    "average_waiting_time <- (a + b) / 2\n",
    "\n",
    "# Print the result\n",
    "cat(\"Average waiting time:\", average_waiting_time, \"minutes\")"
   ]
  },
  {
   "cell_type": "code",
   "execution_count": 62,
   "id": "13482e52",
   "metadata": {},
   "outputs": [
    {
     "data": {
      "text/html": [
       "0.249549372669915"
      ],
      "text/latex": [
       "0.249549372669915"
      ],
      "text/markdown": [
       "0.249549372669915"
      ],
      "text/plain": [
       "[1] 0.2495494"
      ]
     },
     "metadata": {},
     "output_type": "display_data"
    }
   ],
   "source": [
    "# Compute the waiting times by taking the modulo 0.5 (half an hour) of the arrival times\n",
    "waiting_times <- arrival_times %% 0.5\n",
    "\n",
    "# Compute the average waiting time\n",
    "avg_waiting_time <- mean(waiting_times)\n",
    "avg_waiting_time"
   ]
  },
  {
   "cell_type": "markdown",
   "id": "ead44c22",
   "metadata": {},
   "source": [
    "## Exercise 6 - Stock investment"
   ]
  },
  {
   "cell_type": "code",
   "execution_count": 31,
   "id": "b552e426",
   "metadata": {},
   "outputs": [
    {
     "name": "stdout",
     "output_type": "stream",
     "text": [
      "Probability of achieving a net profit of at least 800 euros: 67.05 %"
     ]
    }
   ],
   "source": [
    "# Set the mean and standard deviation of the normal distribution\n",
    "mean <- 0.10\n",
    "sd <- 0.12\n",
    "\n",
    "# Set the number of shares and price per share\n",
    "n_shares <- 200\n",
    "price_per_share <- 85\n",
    "\n",
    "# Set the minimum net profit\n",
    "min_net_profit <- 800\n",
    "\n",
    "# Calculate the minimum return rate required to achieve the minimum net profit\n",
    "min_return_rate <- min_net_profit / (n_shares * price_per_share)\n",
    "\n",
    "# Calculate the probability of achieving at least the minimum return rate\n",
    "prob <- 1 - pnorm(min_return_rate, mean, sd)\n",
    "\n",
    "# Print the result\n",
    "cat(\"Probability of achieving a net profit of at least\", min_net_profit, \"euros:\", round(prob*100,2),\"%\")"
   ]
  }
 ],
 "metadata": {
  "kernelspec": {
   "display_name": "R",
   "language": "R",
   "name": "ir"
  },
  "language_info": {
   "codemirror_mode": "r",
   "file_extension": ".r",
   "mimetype": "text/x-r-source",
   "name": "R",
   "pygments_lexer": "r",
   "version": "4.1.3"
  }
 },
 "nbformat": 4,
 "nbformat_minor": 5
}
