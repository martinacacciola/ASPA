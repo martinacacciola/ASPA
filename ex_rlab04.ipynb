{
 "cells": [
  {
   "cell_type": "markdown",
   "id": "6e0050c3",
   "metadata": {},
   "source": [
    "### RLab01 - Martina Cacciola (2097476)"
   ]
  },
  {
   "cell_type": "markdown",
   "id": "d9885303",
   "metadata": {},
   "source": [
    "## Exercise 1"
   ]
  },
  {
   "cell_type": "markdown",
   "id": "a3ac84b7",
   "metadata": {},
   "source": [
    "### a)"
   ]
  },
  {
   "cell_type": "code",
   "execution_count": 21,
   "id": "ca261689",
   "metadata": {},
   "outputs": [
    {
     "name": "stdout",
     "output_type": "stream",
     "text": [
      "The posterior mean for a prior uniform distribution is: 5.636364\n",
      "The posterior median is: 5.60609\n",
      "The posterior variance is: 0.5123967"
     ]
    },
    {
     "data": {
      "image/png": "[encoded data removed]",
      "text/plain": [
       "Plot with title \"Posterior Distribution\""
      ]
     },
     "metadata": {
      "image/png": {
       "height": 420,
       "width": 420
      }
     },
     "output_type": "display_data"
    }
   ],
   "source": [
    "# Observed data\n",
    "y <- c(5, 8, 4, 6, 11, 6, 6, 5, 6, 4)\n",
    "n <- length(y)\n",
    "\n",
    "# Prior: Uniform distribution\n",
    "a <- 1\n",
    "b <- 1\n",
    "# Posterior distribution\n",
    "a.post1 <- a + sum(y)\n",
    "b.post1 <- b + n\n",
    "# Posterior mean\n",
    "mean.post1 <- a.post1 / b.post1\n",
    "# Posterior median\n",
    "median.post1 <- qgamma(0.5, shape = a.post1, rate = b.post1)\n",
    "# Posterior variance\n",
    "var.post1 <- a.post1 / (b.post1^2)\n",
    "cat(\"The posterior mean for a prior uniform distribution is:\", mean.post1)\n",
    "cat(\"\\nThe posterior median is:\", median.post1)\n",
    "cat(\"\\nThe posterior variance is:\", var.post1)\n",
    "\n",
    "# Credibility interval\n",
    "lower_bound <- qgamma(0.025, shape = a.post1, rate = b.post1)\n",
    "upper_bound <- qgamma(0.975, shape = a.post1, rate = b.post1)\n",
    "\n",
    "# Plot posterior distribution and credibility interval\n",
    "x <- seq(0, 12, length.out = 1000)\n",
    "y <- dgamma(x, shape = a.post1, rate = b.post1)\n",
    "plot(x, y, type = \"l\", col = \"blue\", lwd = 2, xlab = \"µ\", ylab = \"Density\", main = \"Posterior Distribution\")\n",
    "abline(v = mean.post1, lty = 2, col = \"red\")\n",
    "abline(v = median.post1, lty = 3, col = \"green\")\n",
    "abline(v = c(lower_bound, upper_bound), lty = 4, col = \"orange\")\n",
    "legend(\"topright\", legend = c(\"Posterior\", \"Mean\", \"Median\", \"Credibility Interval\"), col = c(\"blue\", \"red\", \"green\", \"orange\"), lwd = 2)"
   ]
  },
  {
   "cell_type": "markdown",
   "id": "6244a8cb",
   "metadata": {},
   "source": [
    "### b)"
   ]
  },
  {
   "cell_type": "code",
   "execution_count": 22,
   "id": "05566731",
   "metadata": {},
   "outputs": [
    {
     "name": "stdout",
     "output_type": "stream",
     "text": [
      "The posterior mean for a Jeffrey's prior is: 8.375\n",
      "The posterior median is: 8.34169\n",
      "The posterior variance is: 0.8375"
     ]
    },
    {
     "data": {
      "image/png": "[encoded data removed]",
      "text/plain": [
       "Plot with title \"Posterior Distribution\""
      ]
     },
     "metadata": {
      "image/png": {
       "height": 420,
       "width": 420
      }
     },
     "output_type": "display_data"
    }
   ],
   "source": [
    "# Jeffreys' prior\n",
    "a <- 0.5\n",
    "b <- 0\n",
    "# posterior distribution\n",
    "a.post2 <- a + sum(y)\n",
    "b.post2 <- b + n\n",
    "# posterior mean\n",
    "mean.post2 <- a.post2 / b.post2\n",
    "# posterior median\n",
    "median.post2 <- qgamma(0.5, shape = a.post2, rate = b.post2)\n",
    "# posterior variance\n",
    "var.post2 <- a.post2 / (b.post2^2)\n",
    "cat(\"The posterior mean for a Jeffrey's prior is:\", mean.post2)\n",
    "cat(\"\\nThe posterior median is:\", median.post2)\n",
    "cat(\"\\nThe posterior variance is:\", var.post2)\n",
    "\n",
    "# Credibility interval\n",
    "lower_bound <- qgamma(0.025, shape = a.post2, rate = b.post2)\n",
    "upper_bound <- qgamma(0.975, shape = a.post2, rate = b.post2)\n",
    "\n",
    "# Plot posterior distribution and credibility interval\n",
    "x <- seq(0, 12, length.out = 1000)\n",
    "y <- dgamma(x, shape = a.post2, rate = b.post2)\n",
    "plot(x, y, type = \"l\", col = \"blue\", lwd = 2, xlab = \"µ\", ylab = \"Density\", main = \"Posterior Distribution\")\n",
    "abline(v = mean.post2, lty = 2, col = \"red\")\n",
    "abline(v = median.post2, lty = 3, col = \"green\")\n",
    "abline(v = c(lower_bound, upper_bound), lty = 4, col = \"orange\")\n",
    "legend(\"topleft\", legend = c(\"Posterior\", \"Mean\", \"Median\", \"Credibility Interval\"), col = c(\"blue\", \"red\", \"green\", \"orange\"), lwd = 2)"
   ]
  },
  {
   "cell_type": "markdown",
   "id": "a98e7862",
   "metadata": {},
   "source": [
    "### c)"
   ]
  },
  {
   "cell_type": "code",
   "execution_count": 25,
   "id": "198e9c83",
   "metadata": {},
   "outputs": [
    {
     "name": "stdout",
     "output_type": "stream",
     "text": [
      "95% credibility interval using uniform prior: 4.321368 7.123368 \n",
      "95% credibility interval using Jeffreys' prior: 6.677847 10.26142 \n",
      "95% confidence interval using normal approximation (uniform prior): 4.233384 7.039343 \n",
      "95% confidence interval using normal approximation (Jeffrey's prior): 6.581338 10.16866"
     ]
    }
   ],
   "source": [
    "# 95% credibility interval for Uniform prior\n",
    "ci.uniform <- qgamma(c(0.025,0.975), shape = a.post1, rate = b.post1)\n",
    "\n",
    "# 95% credibility interval for Jeffrey's prior\n",
    "ci.jeffreys <- qgamma(c(0.025,0.975), shape = a.post2, rate = b.post2)\n",
    "\n",
    "# Normal approximation of posterior distribution\n",
    "ci_unif_norm <- qnorm(c(0.025, 0.975), mean = mean.post1, sd = sqrt(var.post1))\n",
    "ci_jeff_norm <- qnorm(c(0.025, 0.975), mean = mean.post2, sd = sqrt(var.post2))\n",
    "\n",
    "cat(\"95% credibility interval using uniform prior:\", ci.uniform, \"\\n\")\n",
    "cat(\"95% credibility interval using Jeffreys' prior:\", ci.jeffreys, \"\\n\")\n",
    "cat(\"95% confidence interval using normal approximation (uniform prior):\", ci_unif_norm, \"\\n\")\n",
    "cat(\"95% confidence interval using normal approximation (Jeffrey's prior):\", ci_jeff_norm)"
   ]
  },
  {
   "cell_type": "markdown",
   "id": "6f6d52ee",
   "metadata": {},
   "source": [
    "## Exercise 2"
   ]
  },
  {
   "cell_type": "markdown",
   "id": "a8be0042",
   "metadata": {},
   "source": [
    "### a)"
   ]
  },
  {
   "cell_type": "markdown",
   "id": "425b496d",
   "metadata": {},
   "source": [
    "Let `H` be the event of a patient having the disease, and `F` be the event of the new method failing to detect the disease. We know that `P(F|H) = 0.15`. Therefore, `P(D|H) = 0.85`, i.e., the probability of detecting the disease (event `D`) given that the patient has the disease.\n",
    "\n",
    "A random sample of `n = 75` patients known to have the disease is screened using the new method. Let `Y` be the number of times the new method fails to detect the disease in this sample. Then `Y` has a **binomial** distribution with parameters `n = 75` and `p = 0.15`."
   ]
  },
  {
   "cell_type": "code",
   "execution_count": 1,
   "id": "40ca42a9",
   "metadata": {},
   "outputs": [],
   "source": [
    "#number of trials\n",
    "n <- 75\n",
    "p <- 0.15\n",
    "#number of failures\n",
    "y <- 0:n\n",
    "# probability distribution of failure\n",
    "prob_y <- dbinom(y, size = n, prob = p)"
   ]
  },
  {
   "cell_type": "markdown",
   "id": "b8156e41",
   "metadata": {},
   "source": [
    "### b)"
   ]
  },
  {
   "cell_type": "markdown",
   "id": "77cf5008",
   "metadata": {},
   "source": [
    "If `y` is the number of patients in which the method fails to detect the disease and `n` is the total number of patients in the sample, then the frequentist estimator of the failure probability is given by:\n",
    "$ \\hat{p}=\\frac{y}{n} $"
   ]
  },
  {
   "cell_type": "code",
   "execution_count": 2,
   "id": "d78ad48c",
   "metadata": {},
   "outputs": [
    {
     "name": "stdout",
     "output_type": "stream",
     "text": [
      "The frequentist estimation of the failure probability is: 8 %"
     ]
    }
   ],
   "source": [
    "y <- 6\n",
    "# failure probability (frequentist estimator) \n",
    "p_hat <- y/n\n",
    "cat(\"The frequentist estimation of the failure probability is:\", p_hat*100, \"%\")"
   ]
  },
  {
   "cell_type": "markdown",
   "id": "b46234c8",
   "metadata": {},
   "source": [
    "### c)"
   ]
  },
  {
   "cell_type": "code",
   "execution_count": 3,
   "id": "7d40734e",
   "metadata": {},
   "outputs": [
    {
     "data": {
      "image/png": "[encoded data removed]",
      "text/plain": [
       "Plot with title \"Posterior distribution of y\""
      ]
     },
     "metadata": {
      "image/png": {
       "height": 420,
       "width": 420
      }
     },
     "output_type": "display_data"
    }
   ],
   "source": [
    "# Set the prior distribution parameters\n",
    "alpha <- 0.15^2 / 0.14^2\n",
    "beta <- alpha * (1 - 0.15) / 0.15\n",
    "\n",
    "# Set the sample size and number of successes\n",
    "n <- 75\n",
    "y <- rbinom(1, n, 0.85)\n",
    "\n",
    "# Compute the posterior distribution\n",
    "posterior_alpha <- alpha + y\n",
    "posterior_beta <- beta + n - y\n",
    "\n",
    "# Compute the posterior mean and variance\n",
    "posterior_mean <- posterior_alpha / (posterior_alpha + posterior_beta)\n",
    "posterior_variance <- (posterior_alpha * posterior_beta) / ((posterior_alpha + posterior_beta)^2 * (posterior_alpha + posterior_beta + 1))\n",
    "\n",
    "# Plot the posterior distribution\n",
    "x <- seq(0, 1, length.out = 100)\n",
    "posterior <- dbeta(x, posterior_alpha, posterior_beta)\n",
    "plot(x, posterior, type = \"l\", xlab = \"Probability of detection\", ylab = \"Density\", main = \"Posterior distribution of y\")\n",
    "abline(v = posterior_mean, col = \"red\")\n",
    "abline(v = posterior_mean + sqrt(posterior_variance), col = \"blue\", lty = \"dashed\")\n",
    "abline(v = posterior_mean - sqrt(posterior_variance), col = \"blue\", lty = \"dashed\")\n",
    "legend(\"topleft\", c(\"Mean value\", \"95% credible interval\"),\n",
    "       col = c(\"red\", \"blue\"), lwd = 2)"
   ]
  },
  {
   "cell_type": "markdown",
   "id": "7a8b64ce",
   "metadata": {},
   "source": [
    "### d) Bayesian paradigm"
   ]
  },
  {
   "cell_type": "code",
   "execution_count": 16,
   "id": "942940c1",
   "metadata": {},
   "outputs": [
    {
     "name": "stdout",
     "output_type": "stream",
     "text": [
      "Cannot reject the null hypothesis: The new test is no better than the traditional method.\n"
     ]
    },
    {
     "data": {
      "image/png": "[encoded data removed]",
      "text/plain": [
       "Plot with title \"Posterior Distribution\""
      ]
     },
     "metadata": {
      "image/png": {
       "height": 420,
       "width": 420
      }
     },
     "output_type": "display_data"
    }
   ],
   "source": [
    "# Calculate the posterior probability\n",
    "# The probability of failing is greater or equal to 15% = NULL hypothesis\n",
    "posterior_prob <- pbeta(0.15, posterior_alpha, posterior_beta, lower.tail = FALSE)\n",
    "\n",
    "# Perform the hypothesis test with 5% level of significance\n",
    "if (posterior_prob <= 0.05) {\n",
    "  cat(\"Reject the null hypothesis: The new test is better than the traditional method.\\n\")\n",
    "} else {\n",
    "  cat(\"Cannot reject the null hypothesis: The new test is no better than the traditional method.\\n\")\n",
    "}\n",
    "\n",
    "# Plot the posterior distribution\n",
    "x <- seq(0, 1, length.out = 100)\n",
    "posterior <- dbeta(x, posterior_alpha, posterior_beta)\n",
    "plot(x, posterior, type = \"l\", main = \"Posterior Distribution\", xlab = \"Probability of Failing to Detect Disease\", ylab = \"Density\")\n",
    "\n",
    "# Add a shaded region to the plot\n",
    "x_fill <- c(0.15, x[x >= 0.15])\n",
    "y_fill <- c(0, posterior[x >= 0.15])\n",
    "#polygon(x_fill, y_fill, col = \"red\", border = NA)"
   ]
  },
  {
   "cell_type": "markdown",
   "id": "fc38705f",
   "metadata": {},
   "source": [
    "### e) Frequentist paradigm"
   ]
  },
  {
   "cell_type": "markdown",
   "id": "48583051",
   "metadata": {},
   "source": [
    "We perform a binomial test with the null hypothesis that the probability of failing to detect the disease in ill patients is greater than or equal to 15% (`p = 0.15`)."
   ]
  },
  {
   "cell_type": "code",
   "execution_count": 14,
   "id": "d27d0f1e",
   "metadata": {},
   "outputs": [
    {
     "name": "stdout",
     "output_type": "stream",
     "text": [
      "The p-value of the test is 1 \n",
      "Cannot reject the null hypothesis: The new test is no better than the traditional method.\n"
     ]
    },
    {
     "data": {
      "image/png": "[encoded data removed]",
      "text/plain": [
       "Plot with title \"Binomial Distribution\""
      ]
     },
     "metadata": {
      "image/png": {
       "height": 420,
       "width": 420
      }
     },
     "output_type": "display_data"
    }
   ],
   "source": [
    "# Perform the binomial test\n",
    "test_result <- binom.test(y, n, p = 0.15, alternative = \"less\")\n",
    "\n",
    "# Report the result of the test\n",
    "cat(\"The p-value of the test is\", test_result$p.value, \"\\n\")\n",
    "if (test_result$p.value <= 0.05) {\n",
    "  cat(\"Reject the null hypothesis: The new test is better than the traditional method.\\n\")\n",
    "} else {\n",
    "  cat(\"Cannot reject the null hypothesis: The new test is no better than the traditional method.\\n\")\n",
    "}\n",
    "\n",
    "# Plot the binomial distribution\n",
    "x <- 0:n\n",
    "prob <- dbinom(x, n, 0.15)\n",
    "barplot(prob, names.arg = x, main = \"Binomial Distribution\", col = \"#1b98e0\", xlab = \"Number of Successes\", ylab = \"Probability\")\n",
    "\n",
    "# Add a line dividing the acceptance and rejection regions\n",
    "critical_value <- qbinom(0.05, n, 0.15)\n",
    "abline(v = critical_value, col = \"red\", lty = 2)"
   ]
  },
  {
   "cell_type": "markdown",
   "id": "d45efa54",
   "metadata": {},
   "source": [
    "This plot shows the binomial distribution under the null hypothesis that the probability of failing to detect the disease in ill patients is greater than or equal to 15%, and highlights the critical value in red (the largest number of successes for which we cannot reject the null hypothesis at a given significance level). The area to the left of this line represents the acceptance region of the test, where we cannot reject the null hypothesis at a significance level of 0.05. The area to the right instead represents the rejection region of the test."
   ]
  },
  {
   "cell_type": "markdown",
   "id": "d4fd28ac",
   "metadata": {},
   "source": [
    "## Exercise 3"
   ]
  },
  {
   "cell_type": "markdown",
   "id": "43a8a57c",
   "metadata": {},
   "source": [
    "The posterior probability for each combination of $\\alpha$ and $\\beta$ is computed by multiplying the likelihood of the data given $\\alpha$ and $\\beta$, with the prior probability, which is assumed to be uniform over the range of values for $\\alpha$ and $1/\\sqrt \\beta$ over the range of values for $\\beta$. The $1/4\\pi$ term represents a uniform prior over the azimuth angle."
   ]
  },
  {
   "cell_type": "code",
   "execution_count": 6,
   "id": "b96958e5",
   "metadata": {},
   "outputs": [
    {
     "data": {
      "image/png": "[encoded data removed]",
      "text/plain": [
       "Plot with title \"n = 100\""
      ]
     },
     "metadata": {
      "image/png": {
       "height": 420,
       "width": 420
      }
     },
     "output_type": "display_data"
    }
   ],
   "source": [
    "# Likelihood function\n",
    "likelihood <- function(x, alpha, beta) {\n",
    "  return(prod(1 / pi * beta / (beta^2 + (x - alpha)^2)))\n",
    "}\n",
    "\n",
    "# Posterior function\n",
    "posterior <- function(x, alpha_range, beta_range, n) {\n",
    "  alpha_grid <- seq(min(alpha_range), max(alpha_range), length.out = 1000)\n",
    "  beta_grid <- seq(min(beta_range), max(beta_range), length.out = 1000)\n",
    "  posterior_grid <- matrix(0, nrow = length(alpha_grid), ncol = length(beta_grid))\n",
    "  for (i in 1:length(alpha_grid)) {\n",
    "    for (j in 1:length(beta_grid)) {\n",
    "      posterior_grid[i,j] <- likelihood(x[1:n], alpha_grid[i], beta_grid[j]) * 1/(4*pi) * 1/sqrt(beta_grid[j])\n",
    "    }\n",
    "  }\n",
    "  posterior_grid <- posterior_grid / sum(posterior_grid)\n",
    "  return(list(alpha = alpha_grid, beta = beta_grid, posterior = posterior_grid))\n",
    "}\n",
    "\n",
    "\n",
    "# Generate sample data\n",
    "set.seed(123)\n",
    "beta_true <- 1\n",
    "alpha_true <- 1\n",
    "x <- alpha_true + beta_true * tan(runif(1000, -pi/2, pi/2))\n",
    "\n",
    "# Plot posterior for different sample sizes\n",
    "sample_sizes <- c(1, 2, 5, 10, 20, 50, 100)\n",
    "par(mfrow=c(3,3), mar=c(3,3,1,1), oma=c(0,0,2,0))\n",
    "for (i in 1:length(sample_sizes)) {\n",
    "  n <- sample_sizes[i]\n",
    "  post <- posterior(x, alpha_range = c(-2, 2), beta_range = c(0.1, 10), n = n)\n",
    "  contour(post$alpha, post$beta, post$posterior, main = paste(\"n =\", n), xlab = expression(alpha), ylab = expression(beta), col = heat.colors(20), levels = seq(0, max(post$posterior), length.out = 20+1), drawlabels = FALSE)\n",
    "}\n",
    "mtext(expression(paste(\"Posterior Distribution for \", alpha, \" and \", beta)), outer = TRUE, cex = 1.5, font = 2, line = 2)"
   ]
  },
  {
   "cell_type": "code",
   "execution_count": null,
   "id": "d5c13d35",
   "metadata": {},
   "outputs": [],
   "source": []
  }
 ],
 "metadata": {
  "kernelspec": {
   "display_name": "R",
   "language": "R",
   "name": "ir"
  },
  "language_info": {
   "codemirror_mode": "r",
   "file_extension": ".r",
   "mimetype": "text/x-r-source",
   "name": "R",
   "pygments_lexer": "r",
   "version": "4.1.3"
  }
 },
 "nbformat": 4,
 "nbformat_minor": 5
}
