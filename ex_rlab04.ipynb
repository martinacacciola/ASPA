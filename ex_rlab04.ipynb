{
 "cells": [
  {
   "cell_type": "markdown",
   "id": "d9885303",
   "metadata": {},
   "source": [
    "## Exercise 1"
   ]
  },
  {
   "cell_type": "markdown",
   "id": "a3ac84b7",
   "metadata": {},
   "source": [
    "### a)"
   ]
  },
  {
   "cell_type": "code",
   "execution_count": 21,
   "id": "ca261689",
   "metadata": {},
   "outputs": [
    {
     "name": "stdout",
     "output_type": "stream",
     "text": [
      "The posterior mean for a prior uniform distribution is: 5.636364\n",
      "The posterior median is: 5.60609\n",
      "The posterior variance is: 0.5123967"
     ]
    },
    {
     "data": {
      "image/png": "[encoded data removed]",
      "text/plain": [
       "Plot with title \"Posterior Distribution\""
      ]
     },
     "metadata": {
      "image/png": {
       "height": 420,
       "width": 420
      }
     },
     "output_type": "display_data"
    }
   ],
   "source": [
    "# Observed data\n",
    "y <- c(5, 8, 4, 6, 11, 6, 6, 5, 6, 4)\n",
    "n <- length(y)\n",
    "\n",
    "# Prior: Uniform distribution\n",
    "a <- 1\n",
    "b <- 1\n",
    "# Posterior distribution\n",
    "a.post1 <- a + sum(y)\n",
    "b.post1 <- b + n\n",
    "# Posterior mean\n",
    "mean.post1 <- a.post1 / b.post1\n",
    "# Posterior median\n",
    "median.post1 <- qgamma(0.5, shape = a.post1, rate = b.post1)\n",
    "# Posterior variance\n",
    "var.post1 <- a.post1 / (b.post1^2)\n",
    "cat(\"The posterior mean for a prior uniform distribution is:\", mean.post1)\n",
    "cat(\"\\nThe posterior median is:\", median.post1)\n",
    "cat(\"\\nThe posterior variance is:\", var.post1)\n",
    "\n",
    "# Credibility interval\n",
    "lower_bound <- qgamma(0.025, shape = a.post1, rate = b.post1)\n",
    "upper_bound <- qgamma(0.975, shape = a.post1, rate = b.post1)\n",
    "\n",
    "# Plot posterior distribution and credibility interval\n",
    "x <- seq(0, 12, length.out = 1000)\n",
    "y <- dgamma(x, shape = a.post1, rate = b.post1)\n",
    "plot(x, y, type = \"l\", col = \"blue\", lwd = 2, xlab = \"µ\", ylab = \"Density\", main = \"Posterior Distribution\")\n",
    "abline(v = mean.post1, lty = 2, col = \"red\")\n",
    "abline(v = median.post1, lty = 3, col = \"green\")\n",
    "abline(v = c(lower_bound, upper_bound), lty = 4, col = \"orange\")\n",
    "legend(\"topright\", legend = c(\"Posterior\", \"Mean\", \"Median\", \"Credibility Interval\"), col = c(\"blue\", \"red\", \"green\", \"orange\"), lwd = 2)"
   ]
  },
  {
   "cell_type": "markdown",
   "id": "6244a8cb",
   "metadata": {},
   "source": [
    "### b)"
   ]
  },
  {
   "cell_type": "code",
   "execution_count": 22,
   "id": "05566731",
   "metadata": {},
   "outputs": [
    {
     "name": "stdout",
     "output_type": "stream",
     "text": [
      "The posterior mean for a Jeffrey's prior is: 8.375\n",
      "The posterior median is: 8.34169\n",
      "The posterior variance is: 0.8375"
     ]
    },
    {
     "data": {
      "image/png": "[encoded data removed]",
      "text/plain": [
       "Plot with title \"Posterior Distribution\""
      ]
     },
     "metadata": {
      "image/png": {
       "height": 420,
       "width": 420
      }
     },
     "output_type": "display_data"
    }
   ],
   "source": [
    "# Jeffreys' prior\n",
    "a <- 0.5\n",
    "b <- 0\n",
    "# posterior distribution\n",
    "a.post2 <- a + sum(y)\n",
    "b.post2 <- b + n\n",
    "# posterior mean\n",
    "mean.post2 <- a.post2 / b.post2\n",
    "# posterior median\n",
    "median.post2 <- qgamma(0.5, shape = a.post2, rate = b.post2)\n",
    "# posterior variance\n",
    "var.post2 <- a.post2 / (b.post2^2)\n",
    "cat(\"The posterior mean for a Jeffrey's prior is:\", mean.post2)\n",
    "cat(\"\\nThe posterior median is:\", median.post2)\n",
    "cat(\"\\nThe posterior variance is:\", var.post2)\n",
    "\n",
    "# Credibility interval\n",
    "lower_bound <- qgamma(0.025, shape = a.post2, rate = b.post2)\n",
    "upper_bound <- qgamma(0.975, shape = a.post2, rate = b.post2)\n",
    "\n",
    "# Plot posterior distribution and credibility interval\n",
    "x <- seq(0, 12, length.out = 1000)\n",
    "y <- dgamma(x, shape = a.post2, rate = b.post2)\n",
    "plot(x, y, type = \"l\", col = \"blue\", lwd = 2, xlab = \"µ\", ylab = \"Density\", main = \"Posterior Distribution\")\n",
    "abline(v = mean.post2, lty = 2, col = \"red\")\n",
    "abline(v = median.post2, lty = 3, col = \"green\")\n",
    "abline(v = c(lower_bound, upper_bound), lty = 4, col = \"orange\")\n",
    "legend(\"topleft\", legend = c(\"Posterior\", \"Mean\", \"Median\", \"Credibility Interval\"), col = c(\"blue\", \"red\", \"green\", \"orange\"), lwd = 2)"
   ]
  },
  {
   "cell_type": "markdown",
   "id": "a98e7862",
   "metadata": {},
   "source": [
    "### c)"
   ]
  },
  {
   "cell_type": "code",
   "execution_count": 25,
   "id": "198e9c83",
   "metadata": {},
   "outputs": [
    {
     "name": "stdout",
     "output_type": "stream",
     "text": [
      "95% credibility interval using uniform prior: 4.321368 7.123368 \n",
      "95% credibility interval using Jeffreys' prior: 6.677847 10.26142 \n",
      "95% confidence interval using normal approximation (uniform prior): 4.233384 7.039343 \n",
      "95% confidence interval using normal approximation (Jeffrey's prior): 6.581338 10.16866"
     ]
    }
   ],
   "source": [
    "# 95% credibility interval for Uniform prior\n",
    "ci.uniform <- qgamma(c(0.025,0.975), shape = a.post1, rate = b.post1)\n",
    "\n",
    "# 95% credibility interval for Jeffrey's prior\n",
    "ci.jeffreys <- qgamma(c(0.025,0.975), shape = a.post2, rate = b.post2)\n",
    "\n",
    "# Normal approximation of posterior distribution\n",
    "ci_unif_norm <- qnorm(c(0.025, 0.975), mean = mean.post1, sd = sqrt(var.post1))\n",
    "ci_jeff_norm <- qnorm(c(0.025, 0.975), mean = mean.post2, sd = sqrt(var.post2))\n",
    "\n",
    "cat(\"95% credibility interval using uniform prior:\", ci.uniform, \"\\n\")\n",
    "cat(\"95% credibility interval using Jeffreys' prior:\", ci.jeffreys, \"\\n\")\n",
    "cat(\"95% confidence interval using normal approximation (uniform prior):\", ci_unif_norm, \"\\n\")\n",
    "cat(\"95% confidence interval using normal approximation (Jeffrey's prior):\", ci_jeff_norm)"
   ]
  },
  {
   "cell_type": "markdown",
   "id": "6f6d52ee",
   "metadata": {},
   "source": [
    "## Exercise 2"
   ]
  },
  {
   "cell_type": "markdown",
   "id": "a8be0042",
   "metadata": {},
   "source": [
    "### a)"
   ]
  },
  {
   "cell_type": "markdown",
   "id": "425b496d",
   "metadata": {},
   "source": [
    "Let `H` be the event of a patient having the disease, and `F` be the event of the new method failing to detect the disease. We know that `P(F|H) = 0.15`. Therefore, `P(D|H) = 0.85`, i.e., the probability of detecting the disease (event `D`) given that the patient has the disease.\n",
    "\n",
    "A random sample of `n = 75` patients known to have the disease is screened using the new method. Let `Y` be the number of times the new method fails to detect the disease in this sample. Then `Y` has a **binomial** distribution with parameters `n = 75` and `p = 0.15`."
   ]
  },
  {
   "cell_type": "code",
   "execution_count": 1,
   "id": "40ca42a9",
   "metadata": {},
   "outputs": [],
   "source": [
    "#number of trials\n",
    "n <- 75\n",
    "p <- 0.15\n",
    "#number of failures\n",
    "y <- 0:n\n",
    "# probability distribution of failure\n",
    "prob_y <- dbinom(y, size = n, prob = p)"
   ]
  },
  {
   "cell_type": "markdown",
   "id": "b8156e41",
   "metadata": {},
   "source": [
    "### b)"
   ]
  },
  {
   "cell_type": "markdown",
   "id": "77cf5008",
   "metadata": {},
   "source": [
    "If `y` is the number of patients in which the method fails to detect the disease and `n` is the total number of patients in the sample, then the frequentist estimator of the failure probability is given by:\n",
    "$ \\hat{p}=\\frac{y}{n} $"
   ]
  },
  {
   "cell_type": "code",
   "execution_count": 2,
   "id": "d78ad48c",
   "metadata": {},
   "outputs": [
    {
     "name": "stdout",
     "output_type": "stream",
     "text": [
      "The frequentist estimation of the failure probability is: 8 %"
     ]
    }
   ],
   "source": [
    "y <- 6\n",
    "# failure probability (frequentist estimator) \n",
    "p_hat <- y/n\n",
    "cat(\"The frequentist estimation of the failure probability is:\", p_hat*100, \"%\")"
   ]
  },
  {
   "cell_type": "markdown",
   "id": "b46234c8",
   "metadata": {},
   "source": [
    "### c)"
   ]
  },
  {
   "cell_type": "code",
   "execution_count": 3,
   "id": "7d40734e",
   "metadata": {},
   "outputs": [
    {
     "data": {
      "image/png": "[encoded data removed]",
      "text/plain": [
       "Plot with title \"Posterior distribution of y\""
      ]
     },
     "metadata": {
      "image/png": {
       "height": 420,
       "width": 420
      }
     },
     "output_type": "display_data"
    }
   ],
   "source": [
    "# Set the prior distribution parameters\n",
    "alpha <- 0.15^2 / 0.14^2\n",
    "beta <- alpha * (1 - 0.15) / 0.15\n",
    "\n",
    "# Set the sample size and number of successes\n",
    "n <- 75\n",
    "y <- rbinom(1, n, 0.85)\n",
    "\n",
    "# Compute the posterior distribution\n",
    "posterior_alpha <- alpha + y\n",
    "posterior_beta <- beta + n - y\n",
    "\n",
    "# Compute the posterior mean and variance\n",
    "posterior_mean <- posterior_alpha / (posterior_alpha + posterior_beta)\n",
    "posterior_variance <- (posterior_alpha * posterior_beta) / ((posterior_alpha + posterior_beta)^2 * (posterior_alpha + posterior_beta + 1))\n",
    "\n",
    "# Plot the posterior distribution\n",
    "x <- seq(0, 1, length.out = 100)\n",
    "posterior <- dbeta(x, posterior_alpha, posterior_beta)\n",
    "plot(x, posterior, type = \"l\", xlab = \"Probability of detection\", ylab = \"Density\", main = \"Posterior distribution of y\")\n",
    "abline(v = posterior_mean, col = \"red\")\n",
    "abline(v = posterior_mean + sqrt(posterior_variance), col = \"blue\", lty = \"dashed\")\n",
    "abline(v = posterior_mean - sqrt(posterior_variance), col = \"blue\", lty = \"dashed\")\n",
    "legend(\"topleft\", c(\"Mean value\", \"95% credible interval\"),\n",
    "       col = c(\"red\", \"blue\"), lwd = 2)"
   ]
  },
  {
   "cell_type": "markdown",
   "id": "7a8b64ce",
   "metadata": {},
   "source": [
    "### d)"
   ]
  },
  {
   "cell_type": "markdown",
   "id": "6e854def",
   "metadata": {},
   "source": [
    "We compare the posterior probabilities of two competing hypotheses:\n",
    "<ol>\n",
    "  <li> Null hypothesis (H0): The new screening method is no better than the traditional method, i.e., the probability of failing to detect the disease is greater than or equal to 15%.  </li>\n",
    "  <li>Alternative hypothesis (HA): The new screening method is better than the traditional method, i.e., the probability of failing to detect the disease is less than 15%. </li>\n",
    "</ol>"
   ]
  },
  {
   "cell_type": "code",
   "execution_count": 5,
   "id": "8529dea1",
   "metadata": {},
   "outputs": [
    {
     "name": "stdout",
     "output_type": "stream",
     "text": [
      "The new screening method is no better than the traditional method.\n"
     ]
    }
   ],
   "source": [
    "# Calculate the posterior probabilities of H0 and HA\n",
    "p_H0 <- pbeta(0.15, posterior_alpha, posterior_beta)\n",
    "p_HA <- pbeta(0.15, posterior_alpha, posterior_beta, lower.tail = TRUE)\n",
    "\n",
    "# Compare the probabilities and make a decision\n",
    "if (p_HA > p_H0) {\n",
    "  cat(\"The new screening method is better than the traditional method.\\n\")\n",
    "} else {\n",
    "  cat(\"The new screening method is no better than the traditional method.\\n\")\n",
    "}"
   ]
  },
  {
   "cell_type": "markdown",
   "id": "f30dbf1f",
   "metadata": {},
   "source": [
    "Tenere questo sotto, I think."
   ]
  },
  {
   "cell_type": "code",
   "execution_count": 7,
   "id": "967066a2",
   "metadata": {},
   "outputs": [
    {
     "name": "stdout",
     "output_type": "stream",
     "text": [
      "Cannot reject the null hypothesis: The new test is no better than the traditional method.\n"
     ]
    }
   ],
   "source": [
    "# Calculate the posterior probability\n",
    "posterior_prob <- pbeta(0.15, posterior_alpha, posterior_beta, lower.tail = FALSE)\n",
    "\n",
    "# Perform the hypothesis test\n",
    "if (posterior_prob <= 0.05) {\n",
    "  cat(\"Reject the null hypothesis: The new test is better than the traditional method.\\n\")\n",
    "} else {\n",
    "  cat(\"Cannot reject the null hypothesis: The new test is no better than the traditional method.\\n\")\n",
    "}"
   ]
  },
  {
   "cell_type": "code",
   "execution_count": 4,
   "id": "a89ba847",
   "metadata": {},
   "outputs": [
    {
     "name": "stdout",
     "output_type": "stream",
     "text": [
      "We do not reject the null hypothesis at a 5% level of significance."
     ]
    }
   ],
   "source": [
    "# Calculate the posterior probability of the null hypothesis being true given the data\n",
    "p_null <- mean(posterior >= 0.15)\n",
    "\n",
    "# Compare the posterior probability of the null hypothesis being true to the chosen level of significance\n",
    "if (p_null < 0.05) {\n",
    "  cat(\"We reject the null hypothesis at a 5% level of significance.\")\n",
    "} else {\n",
    "  cat(\"We do not reject the null hypothesis at a 5% level of significance.\")\n",
    "}"
   ]
  },
  {
   "cell_type": "code",
   "execution_count": 6,
   "id": "cd80efc2",
   "metadata": {},
   "outputs": [
    {
     "name": "stdout",
     "output_type": "stream",
     "text": [
      "Null hypothesis not supported by data"
     ]
    }
   ],
   "source": [
    "# Compute the marginal likelihoods of the null and alternative hypotheses\n",
    "null_marginal <- pbeta(0.15, posterior_alpha, posterior_beta)\n",
    "alt_marginal <- pbeta(0.15, alpha + y, beta + n - y)\n",
    "\n",
    "# Compute the Bayes factor\n",
    "bayes_factor <- null_marginal / alt_marginal\n",
    "\n",
    "if (bayes_factor > 1/19) {\n",
    "  cat(\"Null hypothesis not supported by data\")\n",
    "} else {\n",
    "  cat(\"Null hypothesis supported by data\")\n",
    "}"
   ]
  },
  {
   "cell_type": "code",
   "execution_count": null,
   "id": "b39f1041",
   "metadata": {},
   "outputs": [],
   "source": [
    "# Define the null and alternative hypotheses\n",
    "null_hypothesis <- function(p) {\n",
    "  dbeta(p, posterior_alpha, posterior_beta) * (p >= 0 & p <= 0.15)\n",
    "}\n",
    "\n",
    "alternative_hypothesis <- function(p) {\n",
    "  dbeta(p, posterior_alpha, posterior_beta) * (p >= 0.15 & p <= 1)\n",
    "}\n",
    "\n",
    "# Calculate the posterior probability of the null hypothesis\n",
    "p_null <- integrate(null_hypothesis, 0, 1)$value\n",
    "\n",
    "# Calculate the posterior probability of the alternative hypothesis\n",
    "p_alternative <- integrate(alternative_hypothesis, 0, 1)$value\n",
    "\n",
    "# Calculate the Bayes factor\n",
    "bayes_factor <- p_alternative / p_null"
   ]
  }
 ],
 "metadata": {
  "kernelspec": {
   "display_name": "R",
   "language": "R",
   "name": "ir"
  },
  "language_info": {
   "codemirror_mode": "r",
   "file_extension": ".r",
   "mimetype": "text/x-r-source",
   "name": "R",
   "pygments_lexer": "r",
   "version": "4.1.3"
  }
 },
 "nbformat": 4,
 "nbformat_minor": 5
}
