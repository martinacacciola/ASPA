{
 "cells": [
  {
   "cell_type": "markdown",
   "id": "bb25e3d3",
   "metadata": {},
   "source": [
    "### RLab01 - Martina Cacciola (2097476)"
   ]
  },
  {
   "cell_type": "markdown",
   "id": "260fe020",
   "metadata": {},
   "source": [
    "## Exercise 1"
   ]
  },
  {
   "cell_type": "code",
   "execution_count": 1,
   "id": "a0a92580",
   "metadata": {},
   "outputs": [
    {
     "name": "stdout",
     "output_type": "stream",
     "text": [
      "package 'gridExtra' successfully unpacked and MD5 sums checked\n",
      "\n",
      "The downloaded binary packages are in\n",
      "\tC:\\Users\\scumb\\AppData\\Local\\Temp\\Rtmp2DdwVp\\downloaded_packages\n"
     ]
    }
   ],
   "source": [
    "install.packages(\"gridExtra\")"
   ]
  },
  {
   "cell_type": "code",
   "execution_count": 2,
   "id": "ce9d8a6f",
   "metadata": {},
   "outputs": [
    {
     "name": "stderr",
     "output_type": "stream",
     "text": [
      "-- \u001b[1mAttaching packages\u001b[22m --------------------------------------- tidyverse 1.3.2 --\n",
      "\u001b[32mv\u001b[39m \u001b[34mggplot2\u001b[39m 3.4.2     \u001b[32mv\u001b[39m \u001b[34mpurrr  \u001b[39m 1.0.1\n",
      "\u001b[32mv\u001b[39m \u001b[34mtibble \u001b[39m 3.2.1     \u001b[32mv\u001b[39m \u001b[34mdplyr  \u001b[39m 1.1.2\n",
      "\u001b[32mv\u001b[39m \u001b[34mtidyr  \u001b[39m 1.3.0     \u001b[32mv\u001b[39m \u001b[34mstringr\u001b[39m 1.5.0\n",
      "\u001b[32mv\u001b[39m \u001b[34mreadr  \u001b[39m 2.1.4     \u001b[32mv\u001b[39m \u001b[34mforcats\u001b[39m 1.0.0\n",
      "-- \u001b[1mConflicts\u001b[22m ------------------------------------------ tidyverse_conflicts() --\n",
      "\u001b[31mx\u001b[39m \u001b[34mdplyr\u001b[39m::\u001b[32mfilter()\u001b[39m         masks \u001b[34mstats\u001b[39m::filter()\n",
      "\u001b[31mx\u001b[39m \u001b[34mreadr\u001b[39m::\u001b[32mguess_encoding()\u001b[39m masks \u001b[34mrvest\u001b[39m::guess_encoding()\n",
      "\u001b[31mx\u001b[39m \u001b[34mdplyr\u001b[39m::\u001b[32mlag()\u001b[39m            masks \u001b[34mstats\u001b[39m::lag()\n",
      "\n",
      "Caricamento pacchetto: 'lubridate'\n",
      "\n",
      "\n",
      "I seguenti oggetti sono mascherati da 'package:base':\n",
      "\n",
      "    date, intersect, setdiff, union\n",
      "\n",
      "\n",
      "\n",
      "Caricamento pacchetto: 'gridExtra'\n",
      "\n",
      "\n",
      "Il seguente oggetto è mascherato da 'package:dplyr':\n",
      "\n",
      "    combine\n",
      "\n",
      "\n"
     ]
    }
   ],
   "source": [
    "library(rvest)\n",
    "library(tidyverse)\n",
    "library(ggplot2)\n",
    "library(lubridate)\n",
    "library(dplyr)\n",
    "library(tidyr)\n",
    "library(gridExtra)"
   ]
  },
  {
   "cell_type": "code",
   "execution_count": 3,
   "id": "cfb443bd",
   "metadata": {},
   "outputs": [
    {
     "data": {
      "image/png": "[encoded data removed]",
      "text/plain": [
       "Plot with title \"Posterior Distributions\""
      ]
     },
     "metadata": {
      "image/png": {
       "height": 420,
       "width": 420
      }
     },
     "output_type": "display_data"
    }
   ],
   "source": [
    "# Set the parameters\n",
    "y <- 7    # Successes\n",
    "n <- 20   # Number of trials\n",
    "p = seq(0,1, by= 0.01) # Probability\n",
    "\n",
    "# Uniform distribution (prior 1)\n",
    "a1 <- 1\n",
    "b1 <- 1\n",
    "prior1 <- function(p) dbeta(p, a1, b1)\n",
    "\n",
    "# Jeffrey's prior (prior 2)\n",
    "a2 <- 0.5\n",
    "b2 <- 0.5\n",
    "prior2 <- function(p) dbeta(p, alpha2, beta2)\n",
    "\n",
    "# Step function (prior 3)\n",
    "posterior3 <- function(p) {\n",
    "    ifelse(p <= 0.2, p,\n",
    "           ifelse(p <= 0.3, 0.2,\n",
    "                  ifelse(p <= 0.5, 0.5 - p, 0))) * dbinom(y, n, p)\n",
    "}\n",
    "\n",
    "# Posterior 1\n",
    "posterior1 <- function(p) dbeta(p, y + a1, n - y + b1)\n",
    "\n",
    "# Posterior 2\n",
    "posterior2 <- function(p) dbeta(p, y+a2, n-y+b2)\n",
    "\n",
    "#Posterior 3\n",
    "posterior3 <- function(p) {\n",
    "    step_prior <- ifelse(p <= 0.2, p,\n",
    "                         ifelse(p <= 0.3, 0.2,\n",
    "                                ifelse(p <= 0.5, 0.5 - p, 0)))\n",
    "    likelihood <- dbinom(y, n, p)\n",
    "    unnormalized_posterior <- step_prior * likelihood\n",
    "    normalization_constant <- sum(unnormalized_posterior * (p[2] - p[1]))\n",
    "    normalized_posterior <- unnormalized_posterior / normalization_constant\n",
    "    return(normalized_posterior)\n",
    "}\n",
    "\n",
    "# Plot the posterior distributions\n",
    "plot(p, posterior1(p), type = \"l\", col = \"red\", xlab = \"p\", ylab = \"Density\", main = \"Posterior Distributions\", ylim=c(0,6))\n",
    "lines(p, posterior2(p), col = \"blue\")\n",
    "lines(p, posterior3(p), col = \"green\")\n",
    "legend(\"topright\", legend = c(\"Uniform\", \"Jeffrey's\", \"Step\"), col = c(\"red\", \"blue\", \"green\"), lty = 1)"
   ]
  },
  {
   "cell_type": "code",
   "execution_count": 4,
   "id": "1ae59469",
   "metadata": {},
   "outputs": [
    {
     "name": "stdout",
     "output_type": "stream",
     "text": [
      "The first and second moment using a uniform prior are: \t 0.3636364 - 0.01006109 \n",
      "The first and second moment using a Jeffrey prior are: \t 0.3571429 - 0.01043599 \n",
      "The first and second moment using a step prior are: \t 0.3120146 - 0.004995067"
     ]
    }
   ],
   "source": [
    "# Compute the first two moments\n",
    "\n",
    "# Mean\n",
    "posterior1_mean <- sum(p * posterior1(p) * (p[2] - p[1]))\n",
    "posterior2_mean <- sum(p * posterior2(p) * (p[2] - p[1]))\n",
    "posterior3_mean <- sum(p * posterior3(p) * (p[2] - p[1]))\n",
    "\n",
    "# Variance\n",
    "posterior1_var <- sum((p - posterior1_mean)^2 * posterior1(p) * (p[2] - p[1]))\n",
    "posterior2_var <- sum((p - posterior2_mean)^2 * posterior2(p) * (p[2] - p[1]))\n",
    "posterior3_var <- sum((p - posterior3_mean)^2 * posterior3(p) * (p[2] - p[1]))\n",
    "cat('The first and second moment using a uniform prior are: \\t', posterior1_mean , '-', posterior1_var, '\\n')\n",
    "cat('The first and second moment using a Jeffrey prior are: \\t', posterior2_mean, '-', posterior2_var, '\\n')\n",
    "cat('The first and second moment using a step prior are: \\t', posterior3_mean, '-', posterior3_var)"
   ]
  },
  {
   "cell_type": "code",
   "execution_count": 5,
   "id": "7ff706ef",
   "metadata": {},
   "outputs": [],
   "source": [
    "# Credibility interval for Posterior 1\n",
    "posterior1_ci <- qbeta(c(0.025, 0.975), y + a1, n - y + b1)\n",
    "\n",
    "# Credibility interval for Posterior 2\n",
    "posterior2_ci <- qbeta(c(0.025, 0.975), y + a2, n - y + b2)\n",
    "\n",
    "# Credibility interval for Posterior 3\n",
    "posterior3_cdf <- cumsum(posterior3(p) * (p[2] - p[1]))\n",
    "\n",
    "# Find lower and upper bounds of credibility interval\n",
    "lower_bound3 <- min(p[posterior3_cdf >= 0.025])\n",
    "upper_bound3 <- max(p[posterior3_cdf <= 0.975])"
   ]
  },
  {
   "cell_type": "code",
   "execution_count": 6,
   "id": "4006706e",
   "metadata": {},
   "outputs": [
    {
     "name": "stdout",
     "output_type": "stream",
     "text": [
      "  Distribution      Mean    Variance  Lower.CI  Upper.CI\n",
      "1      Uniform 0.3636364 0.010061085 0.1810716 0.5696755\n",
      "2    Jeffrey's 0.3571429 0.010435993 0.1722762 0.5677661\n",
      "3         Step 0.3120146 0.004995067 0.1800000 0.4400000\n"
     ]
    }
   ],
   "source": [
    "summary_table <- data.frame(\n",
    "    Distribution = c(\"Uniform\", \"Jeffrey's\", \"Step\"),\n",
    "    Mean = c(posterior1_mean, posterior2_mean, posterior3_mean),\n",
    "    Variance = c(posterior1_var, posterior2_var, posterior3_var),\n",
    "    `Lower CI` = c(posterior1_ci[1], posterior2_ci[1], lower_bound3),\n",
    "    `Upper CI` = c(posterior1_ci[2], posterior2_ci[2], upper_bound3)\n",
    ")\n",
    "print(summary_table)"
   ]
  },
  {
   "cell_type": "code",
   "execution_count": 7,
   "id": "f1dda3ac",
   "metadata": {},
   "outputs": [
    {
     "data": {
      "image/png": "[encoded data removed]",
      "text/plain": [
       "Plot with title \"Posterior Distributions\""
      ]
     },
     "metadata": {
      "image/png": {
       "height": 420,
       "width": 420
      }
     },
     "output_type": "display_data"
    }
   ],
   "source": [
    "plot(p, posterior1(p), type = \"l\", col = \"red\",, lwd = 2,xlab = \"p\", ylab = \"Density\", main = \"Posterior Distributions\", ylim=c(0,6))\n",
    "lines(p, posterior2(p), col = \"blue\", lwd = 2)\n",
    "lines(p, posterior3(p), col = \"green\", lwd = 2)\n",
    "abline(v = c(posterior1_ci[1], posterior1_ci[2]), lty = 2, col = \"red\")\n",
    "abline(v = c(posterior2_ci[1], posterior2_ci[2]), lty = 3, col = \"blue\")\n",
    "abline(v = c(lower_bound, upper_bound), lty = 4, col = \"green\")\n",
    "legend(\"topright\", legend = c(\"Uniform\", \"Jeffrey's\", \"Step\"), col = c(\"red\", \"blue\", \"green\"), lty = 1)"
   ]
  },
  {
   "cell_type": "markdown",
   "id": "c3ad87b9",
   "metadata": {},
   "source": [
    "## Exercise 2"
   ]
  },
  {
   "cell_type": "code",
   "execution_count": 9,
   "id": "9b89002e",
   "metadata": {},
   "outputs": [
    {
     "name": "stdout",
     "output_type": "stream",
     "text": [
      "Posterior mean with uniform prior: 0.1525424 \n",
      "Posterior variance with uniform prior: 0.001086329 \n",
      "Posterior mean with Beta prior: 0.1487603 \n",
      "Posterior variance with Beta prior: 0.001037957 \n"
     ]
    },
    {
     "data": {
      "image/png": "[encoded data removed]",
      "text/plain": [
       "Plot with title \"Posterior distribution of pi\""
      ]
     },
     "metadata": {
      "image/png": {
       "height": 420,
       "width": 420
      }
     },
     "output_type": "display_data"
    }
   ],
   "source": [
    "n <- 116\n",
    "y <- 17\n",
    "pi <- seq(0, 1, length.out = 1000)\n",
    "\n",
    "# Uniform prior\n",
    "likelihood <- dbinom(y, n, pi)\n",
    "posterior_unif <- likelihood\n",
    "# Normalize\n",
    "posterior_unif <- posterior_unif / sum(posterior_unif)\n",
    "\n",
    "# Beta (1, 4) prior\n",
    "posterior_beta <- likelihood * dbeta(pi, 1, 4)\n",
    "posterior_beta <- posterior_beta / sum(posterior_beta)\n",
    "\n",
    "# Plotting the posterior distribution\n",
    "plot(pi, posterior_unif, type = \"l\", col = \"blue\", lwd = 2,\n",
    "     xlab = expression(pi), ylab = \"Density\",\n",
    "     main = \"Posterior distribution of pi\")\n",
    "lines(pi, posterior_beta, col = \"red\", lwd = 2)\n",
    "legend(\"topright\", c(\"Uniform prior\", \"Beta (1, 4) prior\"),\n",
    "       col = c(\"blue\", \"red\"), lty = 1, lwd = 2)\n",
    "\n",
    "# Summarizing the results\n",
    "mean_unif <- sum(pi * posterior_unif)\n",
    "var_unif <- sum((pi - mean_unif)^2 * posterior_unif)\n",
    "mean_beta <- sum(pi * posterior_beta)\n",
    "var_beta <- sum((pi - mean_beta)^2 * posterior_beta)\n",
    "\n",
    "cat(\"Posterior mean with uniform prior:\", mean_unif, \"\\n\")\n",
    "cat(\"Posterior variance with uniform prior:\", var_unif, \"\\n\")\n",
    "cat(\"Posterior mean with Beta prior:\", mean_beta, \"\\n\")\n",
    "cat(\"Posterior variance with Beta prior:\", var_beta, \"\\n\")"
   ]
  },
  {
   "cell_type": "code",
   "execution_count": 30,
   "id": "26ec4ac5",
   "metadata": {},
   "outputs": [
    {
     "data": {
      "image/png": "[encoded data removed]",
      "text/plain": [
       "Plot with title \"Posterior distribution of pi\""
      ]
     },
     "metadata": {
      "image/png": {
       "height": 420,
       "width": 420
      }
     },
     "output_type": "display_data"
    }
   ],
   "source": [
    "# Normal approximation (uniform)\n",
    "mu_unif <- sum(pi * posterior_unif)\n",
    "sigma_unif <- sqrt(sum((pi - mu_unif)^2 * posterior_unif))\n",
    "posterior_norm_unif <- dnorm(pi, mu_unif, sigma_unif)\n",
    "posterior_norm_unif <- posterior_norm_unif / sum(posterior_norm_unif)\n",
    "\n",
    "# Normal approximation (beta)\n",
    "mu_beta <- sum(pi * posterior_beta)\n",
    "sigma_beta <- sqrt(sum((pi - mu_beta)^2 * posterior_beta))\n",
    "posterior_norm_beta <- dnorm(pi, mu_beta, sigma_beta)\n",
    "posterior_norm_beta <- posterior_norm_beta / sum(posterior_norm_beta)\n",
    "\n",
    "# Plotting the posterior distributions\n",
    "plot(pi, posterior_unif, type = \"l\", col = \"blue\", lwd = 2,\n",
    "     xlab = expression(pi), ylab = \"Density\",\n",
    "     main = \"Posterior distribution of pi\")\n",
    "lines(pi, posterior_beta, col = \"red\", lwd = 2)\n",
    "lines(pi, posterior_norm_unif, col = \"blue\", lty = \"dashed\", lwd = 2)\n",
    "lines(pi, posterior_norm_beta, col = \"red\", lty = \"dashed\", lwd = 2)\n",
    "legend(\"topright\", c(\"Uniform prior\", \"Beta (1, 4) prior\", \"Normal approx. uniform\", \"Normal approx. beta\"),\n",
    "       col = c(\"blue\", \"red\", \"blue\", \"red\"), lwd = 2)"
   ]
  },
  {
   "cell_type": "code",
   "execution_count": 11,
   "id": "eb78d152",
   "metadata": {},
   "outputs": [
    {
     "name": "stdout",
     "output_type": "stream",
     "text": [
      "                      Lower limit Upper limit\n",
      "Uniform                0.09409409   0.2222222\n",
      "Beta                   0.09109109   0.2172172\n",
      "Normal approx Uniform  0.08794292   0.2171418\n",
      "Normal approx Beta     0.08561552   0.2119051\n"
     ]
    },
    {
     "data": {
      "image/png": "[encoded data removed]",
      "text/plain": [
       "Plot with title \"Posterior distributions\""
      ]
     },
     "metadata": {
      "image/png": {
       "height": 420,
       "width": 420
      }
     },
     "output_type": "display_data"
    }
   ],
   "source": [
    "# Compute the 95% credibility interval for the original posterior\n",
    "cumsum_unif <- cumsum(posterior_unif)\n",
    "cumsum_beta <- cumsum(posterior_beta)\n",
    "quantile_unif <- c(pi[which(cumsum_unif >= 0.025)[1]], pi[which(cumsum_unif >= 0.975)[1]])\n",
    "quantile_beta <- c(pi[which(cumsum_beta >= 0.025)[1]], pi[which(cumsum_beta >= 0.975)[1]])\n",
    "\n",
    "# Compute the 95% credibility interval for the normal approximation\n",
    "quantile_norm_unif <- qnorm(c(0.025, 0.975), mean = mu_unif, sd = sigma_unif)\n",
    "quantile_norm_beta <- qnorm(c(0.025, 0.975), mean = mu_beta, sd = sigma_beta)\n",
    "\n",
    "# Create a summary table\n",
    "summary_table <- rbind(c(quantile_unif), c(quantile_beta), c(quantile_norm_unif), c(quantile_norm_beta))\n",
    "colnames(summary_table) <- c(\"Lower limit\", \"Upper limit\")\n",
    "rownames(summary_table) <- c(\"Uniform\", \"Beta\", \"Normal approx Uniform\", \"Normal approx Beta\")\n",
    "print(summary_table)\n",
    "\n",
    "# Plot the posterior distributions\n",
    "plot(pi, posterior_unif, type = \"l\", col = \"blue\", lwd = 2,\n",
    "     main = \"Posterior distributions\",\n",
    "     xlab = expression(pi),\n",
    "     ylab = \"Density\")\n",
    "lines(pi, posterior_beta, col = \"red\", lwd = 2)\n",
    "\n",
    "# Add the limits on the plot\n",
    "abline(v = quantile_unif[1], col = \"blue\", lty = 3)\n",
    "abline(v = quantile_unif[2], col = \"blue\", lty = 3)\n",
    "abline(v = quantile_beta[1], col = \"red\", lty = 3)\n",
    "abline(v = quantile_beta[2], col = \"red\", lty = 3)\n",
    "\n",
    "# Add a legend\n",
    "legend(\"topright\",\n",
    "       legend=c(\"Uniform\",\"Beta\"),\n",
    "       col=c(\"blue\",\"red\"),\n",
    "       lty=c(1,1),\n",
    "       lwd=c(2,2))"
   ]
  },
  {
   "cell_type": "markdown",
   "id": "bd775385",
   "metadata": {},
   "source": [
    "## Exercise 3"
   ]
  },
  {
   "cell_type": "markdown",
   "id": "2bebb4c0",
   "metadata": {},
   "source": [
    "## a) + b)"
   ]
  },
  {
   "cell_type": "code",
   "execution_count": 35,
   "id": "b663bf2f",
   "metadata": {},
   "outputs": [
    {
     "name": "stdout",
     "output_type": "stream",
     "text": [
      "The most probable value for p with flat prior is: 0.4994995\n",
      "The most probable value for p with beta prior is: 0.4994995\n",
      "The 95% credibility interval for p with flat prior is: 0.330606 0.669394\n",
      "The 95% credibility interval for p with beta prior is: 0.3354445 0.6645555"
     ]
    },
    {
     "data": {
      "image/png": "[encoded data removed]",
      "text/plain": [
       "Plot with title \"Likelihood, Prior and Posterior Distributions\""
      ]
     },
     "metadata": {
      "image/png": {
       "height": 420,
       "width": 420
      }
     },
     "output_type": "display_data"
    }
   ],
   "source": [
    "# Set the number of coin flips and the observed data\n",
    "n <- 30\n",
    "data <- c(\"T\", \"T\", \"T\", \"T\", \"T\", \"H\", \"T\", \"T\", \"H\", \"H\", \"T\", \"T\", \"H\", \"H\", \"H\", \"T\", \"H\", \"T\", \"H\", \"T\", \"H\", \"H\", \"T\", \"H\", \"T\", \"H\", \"T\", \"H\", \"H\", \"H\")\n",
    "\n",
    "# Calculate the number of heads and tails\n",
    "num_heads <- sum(data == 'H')\n",
    "num_tails <- n - num_heads\n",
    "\n",
    "# Define a function to calculate the likelihood\n",
    "likelihood <- function(p) {\n",
    "  dbinom(num_heads, size = n, prob = p)\n",
    "}\n",
    "\n",
    "# Define a function to calculate the posterior with a flat prior\n",
    "posterior_flat <- function(p) {\n",
    "  likelihood(p) / integrate(likelihood, lower = 0, upper = 1)$value\n",
    "}\n",
    "\n",
    "# Define a function to calculate the posterior with a beta(2,2) prior\n",
    "posterior_beta <- function(p) {\n",
    "  dbeta(p, shape1 = num_heads + 2, shape2 = num_tails + 2)* likelihood(p) / integrate(function(x) dbeta(x, shape1 = num_heads + 1, shape2 = num_tails + 1) * likelihood(x), lower = 0, upper = 1)$value \n",
    "}\n",
    "\n",
    "# Plot the likelihood, prior and posterior distributions\n",
    "p <- seq(0, 1, length.out = 1000)\n",
    "plot(p, likelihood(p), type = 'l', col = 'blue', lwd = 2,\n",
    "     main = 'Likelihood, Prior and Posterior Distributions',\n",
    "     xlab = 'Probability of Heads', ylab = 'Density', ylim = c(0, 6.3))\n",
    "lines(p, dunif(p, min = 0, max =1), col ='yellow', lwd = 2)                                                                                      \n",
    "lines(p, dbeta(p, shape1 = 2, shape2 = 2), col = 'red', lwd = 2)\n",
    "lines(p, posterior_flat(p), col = 'green', lwd = 2)\n",
    "lines(p, posterior_beta(p), col = 'purple', lwd = 2)\n",
    "legend('topright', legend = c('Likelihood', 'Prior (Flat)', 'Prior (Beta)', 'Posterior (Flat Prior)', 'Posterior (Beta Prior)'), col = c('blue', 'yellow', 'red', 'green', 'purple'), lty = 1, lwd = 2)\n",
    "\n",
    "# Evaluate the most probable value for the coin probability p (flat prior)\n",
    "p_map_flat <- p[which.max(posterior_flat(p))]\n",
    "cat('The most probable value for p with flat prior is:', p_map_flat)\n",
    "                                                                                      \n",
    "# Evaluate the most probable value for the coin probability p (beta prior)                                                                                    \n",
    "p_map_beta <- p[which.max(posterior_beta(p))]\n",
    "cat('\\nThe most probable value for p with beta prior is:', p_map_beta)\n",
    "\n",
    "# Estimate a 95% credibility interval with flat prior\n",
    "ci <- qbeta(c(0.025, 0.975), shape1 = num_heads + 1, shape2 = num_tails + 1)\n",
    "cat('\\nThe 95% credibility interval for p with flat prior is:', ci)\n",
    "\n",
    "# Estimate a 95% credibility interval with beta prior                                                                                     \n",
    "ci <- qbeta(c(0.025, 0.975), shape1 = num_heads + 2, shape2 = num_tails + 2)\n",
    "cat('\\nThe 95% credibility interval for p with beta prior is:', ci)"
   ]
  },
  {
   "cell_type": "markdown",
   "id": "dd4fe9b7",
   "metadata": {},
   "source": [
    "## c)"
   ]
  },
  {
   "cell_type": "code",
   "execution_count": 36,
   "id": "af73ca66",
   "metadata": {},
   "outputs": [
    {
     "data": {
      "image/png": "[encoded data removed]",
      "text/plain": [
       "Plot with title \"Evolution of the most probable value of p\""
      ]
     },
     "metadata": {
      "image/png": {
       "height": 420,
       "width": 420
      }
     },
     "output_type": "display_data"
    },
    {
     "data": {
      "image/png": "[encoded data removed]",
      "text/plain": [
       "Plot with title \"Evolution of the credibility interval\""
      ]
     },
     "metadata": {
      "image/png": {
       "height": 420,
       "width": 420
      }
     },
     "output_type": "display_data"
    }
   ],
   "source": [
    "# Initialize variables to store the results\n",
    "p_map_flat <- numeric(n)\n",
    "ci_lower_flat <- numeric(n)\n",
    "ci_upper_flat <- numeric(n)\n",
    "p_map_beta <- numeric(n)\n",
    "ci_lower_beta <- numeric(n)\n",
    "ci_upper_beta <- numeric(n)\n",
    "\n",
    "# Perform a sequential analysis of the data\n",
    "for (j in 1:n) {\n",
    "  # Calculate the number of heads and tails in the first j coin tosses\n",
    "  num_heads <- sum(data[1:j] == 'H')\n",
    "  num_tails <- j - num_heads\n",
    "  \n",
    "  # Define a function to calculate the likelihood\n",
    "  likelihood <- function(p) {\n",
    "    dbinom(num_heads, size = j, prob = p)\n",
    "  }\n",
    "  \n",
    "  # Define a function to calculate the posterior with a flat prior\n",
    "  posterior_flat <- function(p) {\n",
    "    likelihood(p) / integrate(likelihood, lower = 0, upper = 1)$value\n",
    "  }\n",
    "  \n",
    "  # Define a function to calculate the posterior with a beta prior\n",
    "  posterior_beta <- function(p) {\n",
    "    dbeta(p, shape1 = num_heads + 2, shape2 = num_tails + 2)* likelihood(p) / integrate(function(x) dbeta(x, shape1 = num_heads + 2, shape2 = num_tails + 2) * likelihood(x), lower = 0, upper = 1)$value\n",
    "  }\n",
    "  \n",
    "  # Evaluate the most probable value for the coin probability p\n",
    "  p <- seq(0, 1, length.out = 1000)\n",
    "  p_map_flat[j] <- p[which.max(posterior_flat(p))]\n",
    "  p_map_beta[j] <- p[which.max(posterior_beta(p))]\n",
    "  \n",
    "  # Estimate a 95% credibility interval for flat prior\n",
    "  ci_flat_lower <- uniroot(function(x) integrate(posterior_flat, lower = 0, upper = x)$value - 0.025,\n",
    "                           lower = 0, upper = 1)$root\n",
    "  ci_lower_flat[j] <- ci_flat_lower\n",
    "  \n",
    "  ci_flat_upper <- uniroot(function(x) integrate(posterior_flat, lower = x, upper = 1)$value - 0.025,\n",
    "                           lower = ci_flat_lower, upper = 1)$root\n",
    "  ci_upper_flat[j] <- ci_flat_upper\n",
    "  \n",
    "  \n",
    "  # Estimate a 95% credibility interval for beta prior\n",
    "   ci_beta_lower <- uniroot(function(x) integrate(posterior_beta, lower = 0, upper = x)$value -0.025,\n",
    "                            lower=0, upper=1)$root\n",
    "   ci_lower_beta[j] <- ci_beta_lower\n",
    "   \n",
    "   ci_beta_upper <- uniroot(function(x) integrate(posterior_beta, lower=x , upper=1)$value -0.025,\n",
    "                            lower=ci_beta_lower , upper=1)$root\n",
    "   ci_upper_beta[j] <- ci_beta_upper\n",
    "   \n",
    "}\n",
    "\n",
    "# Plot the evolution of the most probable value for the two priors\n",
    "plot(p_map_flat, type = \"l\", col = \"blue\", lwd = 2,\n",
    "     xlab = \"Number of coin tosses\", ylab = \"Most probable value of p\",\n",
    "     main = \"Evolution of the most probable value of p\")\n",
    "lines(p_map_beta, col = \"red\", lwd = 2)\n",
    "legend(\"topleft\", legend = c(\"Flat prior\", \"Beta prior\"),\n",
    "       col = c(\"blue\", \"red\"), lty = 1, lwd = 2)\n",
    "\n",
    "# Plot the evolution of the credibility interval for the two priors\n",
    "plot(ci_lower_flat, type = \"n\", ylim = c(0, 1),\n",
    "     xlab = \"Number of coin tosses\", ylab = \"Credibility interval\",\n",
    "     main = \"Evolution of the credibility interval\")\n",
    "segments(x0 = 1:n, y0 = ci_lower_flat, x1 = 1:n, y1 = ci_upper_flat,\n",
    "         col = \"blue\", lwd = 2)\n",
    "segments(x0 = 1:n, y0 = ci_lower_beta, x1 = 1:n, y1 = ci_upper_beta,\n",
    "         col = \"red\", lwd = 2)\n",
    "legend(\"topleft\", legend = c(\"Flat prior\", \"Beta prior\"),\n",
    "       col = c(\"blue\", \"red\"), lty = 1, lwd = 2)"
   ]
  },
  {
   "cell_type": "markdown",
   "id": "811fbe33",
   "metadata": {},
   "source": [
    "## d)"
   ]
  },
  {
   "cell_type": "code",
   "execution_count": 37,
   "id": "bfff9c88",
   "metadata": {},
   "outputs": [
    {
     "name": "stdout",
     "output_type": "stream",
     "text": [
      "The most probable value of p with a flat prior is: 0.5\n",
      "The most probable value of p with a beta prior is: 0.5\n",
      "The credibility interval of p with flat prior is: 0.3306054 - 0.6693974\n",
      "The credibility interval of p with flat prior is: 0.3354445 - 0.6645555"
     ]
    }
   ],
   "source": [
    "# Evaluate the most probable value for the coin probability p for the one-step analysis\n",
    "p_map_flat <- optimize(posterior_flat, interval = c(0, 1), maximum = TRUE)$maximum\n",
    "p_map_beta <- optimize(posterior_beta, interval = c(0, 1), maximum = TRUE)$maximum\n",
    "\n",
    "# Estimate a 95% credibility interval for flat prior for the one-step analysis\n",
    "ci_flat_lower <- uniroot(function(x) integrate(posterior_flat, lower = 0, upper = x)$value - 0.025,\n",
    "                                  lower = 0, upper = 1)$root\n",
    "ci_flat_upper <- uniroot(function(x) integrate(posterior_flat, lower = x, upper = 1)$value - 0.025,\n",
    "                                  lower = ci_flat_lower, upper = 1)$root\n",
    "\n",
    "# Estimate a 95% credibility interval for beta prior for the one-step analysis\n",
    "ci_beta_lower <- qbeta(0.025, shape1 = num_heads + 2, shape2 = num_tails + 2)\n",
    "ci_beta_upper <- qbeta(0.975, shape1 = num_heads + 2, shape2 = num_tails + 2)\n",
    "\n",
    "cat (\"The most probable value of p with a flat prior is:\", p_map_flat)\n",
    "cat (\"\\nThe most probable value of p with a beta prior is:\", p_map_beta)\n",
    "cat (\"\\nThe credibility interval of p with flat prior is:\", ci_flat_lower, \"-\", ci_flat_upper)\n",
    "cat (\"\\nThe credibility interval of p with flat prior is:\", ci_beta_lower, \"-\", ci_beta_upper)"
   ]
  },
  {
   "cell_type": "markdown",
   "id": "ac59aeb1",
   "metadata": {},
   "source": [
    "The values computed with sequential analysis are the same to those produced by the one-step analysis performed before, as expected."
   ]
  },
  {
   "cell_type": "markdown",
   "id": "6993713c",
   "metadata": {},
   "source": [
    "## Exercise 4- Six Boxes Toy Model : inference"
   ]
  },
  {
   "cell_type": "markdown",
   "id": "735fa474",
   "metadata": {},
   "source": [
    "### 1)"
   ]
  },
  {
   "cell_type": "code",
   "execution_count": 7,
   "id": "7a4e5aa5",
   "metadata": {},
   "outputs": [
    {
     "name": "stdout",
     "output_type": "stream",
     "text": [
      "Ramdomly selected box: H_ 0"
     ]
    },
    {
     "data": {
      "image/png": "[encoded data removed]",
      "text/plain": [
       "plot without title"
      ]
     },
     "metadata": {
      "image/png": {
       "height": 420,
       "width": 420
      }
     },
     "output_type": "display_data"
    }
   ],
   "source": [
    "# Define the boxes H_j (where j=1 is white and j=0 black) and number of iterations\n",
    "j = sample(0:5, 1)\n",
    "iterations = 20\n",
    "cat('Ramdomly selected box: H_',j)\n",
    "\n",
    "# Simulate the extraction of a white/black stone from the box\n",
    "# j/5 = probability of extracting white\n",
    "samples = function(j){\n",
    "    out = ifelse(runif(length(j)) < j/5, 1, 0)\n",
    "    return(out)\n",
    "}\n",
    "\n",
    "# Calculate the conditional probability of extracting a stone from a box j\n",
    "# given the color ('sample') of the previously extracted stone\n",
    "probE_H = function(sample, j){\n",
    "  ifelse(sample, j/5, (5-j)/5)\n",
    "}\n",
    "\n",
    "\n",
    "# Initial probability distribution of each box (uniform prior)\n",
    "prob_H = c(1/6, 1/6, 1/6, 1/6, 1/6, 1/6)\n",
    "\n",
    "prob_H0 = c()\n",
    "prob_H1 = c()\n",
    "prob_H2 = c()\n",
    "prob_H3 = c()\n",
    "prob_H4 = c()\n",
    "prob_H5 = c()\n",
    "\n",
    "#Update the probability of each box for the next extractions\n",
    "for (x in 1:iterations){\n",
    "     s = sample(j)\n",
    "     probE_H0 = c(probE_H(s, 0), probE_H(s, 1), probE_H(s, 2), probE_H(s, 3), probE_H(s, 4), probE_H(s, 5) )\n",
    "evidence = 0\n",
    "    for (J in 1:6){\n",
    "        evidence = evidence + probE_H0[J]*prob_H[J]\n",
    "    }\n",
    "# Posterior probability distribution prob_H\n",
    "    for (J in 1:6){\n",
    "        prob_H[J] =  probE_H0[J]*prob_H[J]/evidence \n",
    "    }\n",
    "    \n",
    "    \n",
    "# Store the posterior probability for each box in separate vectors  \n",
    "    prob_H0 = c(prob_H0, prob_H[1])\n",
    "    prob_H1 = c(prob_H1, prob_H[2])\n",
    "    prob_H2 = c(prob_H2, prob_H[3])\n",
    "    prob_H3 = c(prob_H3, prob_H[4])\n",
    "    prob_H4 = c(prob_H4, prob_H[5])\n",
    "    prob_H5 = c(prob_H5, prob_H[6])\n",
    "\n",
    "}\n",
    "p0 = ggplot() + geom_point(aes(x=1:iterations, y=prob_H0), color='red') + labs(title='H0 box probability evolution', x='Number of Samples', y='Probability')+ylim(0,1)+xlim(1,iterations)\n",
    "p1 = ggplot() + geom_point(aes(x=1:iterations, y=prob_H1), color='red') + labs(title='H1 box probability evolution', x='Number of Samples', y='Probability')+ylim(0,1)+xlim(1,iterations)\n",
    "p2 = ggplot() + geom_point(aes(x=1:iterations, y=prob_H2), color='red') + labs(title='H2 box probability evolution', x='Number of Samples', y='Probability')+ylim(0,1)+xlim(1,iterations)\n",
    "p3 = ggplot() + geom_point(aes(x=1:iterations, y=prob_H3), color='red') + labs(title='H3 box probability evolution', x='Number of Samples', y='Probability')+ylim(0,1)+xlim(1,iterations)\n",
    "p4 = ggplot() + geom_point(aes(x=1:iterations, y=prob_H4), color='red') + labs(title='H4 box probability evolution', x='Number of Samples', y='Probability')+ylim(0,1)+xlim(1,iterations)\n",
    "p5 = ggplot() + geom_point(aes(x=1:iterations, y=prob_H5), color='red') + labs(title='H5 box probability evolution', x='Number of Samples', y='Probability')+ylim(0,1)+xlim(1,iterations)\n",
    "\n",
    "grid.arrange(p0, p1, p2, p3, p4, p5, ncol=3, nrow=2)"
   ]
  }
 ],
 "metadata": {
  "kernelspec": {
   "display_name": "R",
   "language": "R",
   "name": "ir"
  },
  "language_info": {
   "codemirror_mode": "r",
   "file_extension": ".r",
   "mimetype": "text/x-r-source",
   "name": "R",
   "pygments_lexer": "r",
   "version": "4.1.3"
  }
 },
 "nbformat": 4,
 "nbformat_minor": 5
}
